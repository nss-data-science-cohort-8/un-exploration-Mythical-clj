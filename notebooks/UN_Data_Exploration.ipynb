{
 "cells": [
  {
   "cell_type": "markdown",
   "id": "46c211a8-d6f7-4eeb-966f-e21fa98a3a46",
   "metadata": {},
   "source": [
    "## UN Data Exploration"
   ]
  },
  {
   "cell_type": "markdown",
   "id": "c4ff8716-0efa-475f-ad6d-6086c15450e2",
   "metadata": {},
   "source": [
    "Download the Gross Domestic Product (GDP) per capita dataset from http://data.un.org/Data.aspx?d=WDI&f=Indicator_Code%3aNY.GDP.PCAP.PP.KD. Rename it to gdp_per_capita.csv and place it in the data folder of your project repository."
   ]
  },
  {
   "cell_type": "code",
   "execution_count": 3,
   "id": "969add66-6fda-4e80-a169-5ad1887afd7f",
   "metadata": {},
   "outputs": [],
   "source": [
    "import pandas as pd\n",
    "import numpy as np\n",
    "import matplotlib.pyplot as plt\n",
    "import seaborn as sns"
   ]
  },
  {
   "cell_type": "markdown",
   "id": "64baff2b-cc6a-48ed-9334-f3a4dd9cc302",
   "metadata": {},
   "source": [
    "Drop the 'Value Footnotes' column, and rename the remaining columns to 'Country', 'Year', and 'GDP_Per_Capita'."
   ]
  },
  {
   "cell_type": "code",
   "execution_count": 5,
   "id": "f55ffdc1-41fd-4a86-ab32-59ab03c93498",
   "metadata": {},
   "outputs": [],
   "source": [
    "gdp_df = (\n",
    "    pd.read_csv(\"../data/gdp_per_capita.csv\")\n",
    "    .rename(columns={\"Country or Area\" : \"Country\", \"Value\" : \"GDP_Per_Capita\"})\n",
    "    .drop('Value Footnotes', axis=1)\n",
    ")"
   ]
  },
  {
   "cell_type": "code",
   "execution_count": 6,
   "id": "50b8056d-e554-4bff-9258-23b9d3f5bc62",
   "metadata": {},
   "outputs": [],
   "source": [
    "gdp_df['Year'] = pd.to_datetime(gdp_df['Year'], format = '%Y', errors='coerce').dt.to_period('Y')"
   ]
  },
  {
   "cell_type": "markdown",
   "id": "155b9ba5-e6b3-474e-8a55-3a842d599950",
   "metadata": {},
   "source": [
    "How many rows and columns does gdp_df have? What are the data types of its columns? If any of the columns are not the expected types, figure out why and fix it.\r\n",
    "\r\n",
    "There are 7,662 rows, and 3 columns (once value footnotes is removed). Country is nominal categorical, Year is ordinal categorical, and value is continuous numerical."
   ]
  },
  {
   "cell_type": "code",
   "execution_count": 8,
   "id": "0e8d1c3d-fe52-47c7-9dc4-5021090e3343",
   "metadata": {},
   "outputs": [
    {
     "name": "stdout",
     "output_type": "stream",
     "text": [
      "<class 'pandas.core.frame.DataFrame'>\n",
      "RangeIndex: 7662 entries, 0 to 7661\n",
      "Data columns (total 3 columns):\n",
      " #   Column          Non-Null Count  Dtype        \n",
      "---  ------          --------------  -----        \n",
      " 0   Country         7662 non-null   object       \n",
      " 1   Year            7662 non-null   period[Y-DEC]\n",
      " 2   GDP_Per_Capita  7662 non-null   float64      \n",
      "dtypes: float64(1), object(1), period[Y-DEC](1)\n",
      "memory usage: 179.7+ KB\n"
     ]
    },
    {
     "data": {
      "text/html": [
       "<div>\n",
       "<style scoped>\n",
       "    .dataframe tbody tr th:only-of-type {\n",
       "        vertical-align: middle;\n",
       "    }\n",
       "\n",
       "    .dataframe tbody tr th {\n",
       "        vertical-align: top;\n",
       "    }\n",
       "\n",
       "    .dataframe thead th {\n",
       "        text-align: right;\n",
       "    }\n",
       "</style>\n",
       "<table border=\"1\" class=\"dataframe\">\n",
       "  <thead>\n",
       "    <tr style=\"text-align: right;\">\n",
       "      <th></th>\n",
       "      <th>Country</th>\n",
       "      <th>Year</th>\n",
       "      <th>GDP_Per_Capita</th>\n",
       "    </tr>\n",
       "  </thead>\n",
       "  <tbody>\n",
       "    <tr>\n",
       "      <th>7059</th>\n",
       "      <td>Tonga</td>\n",
       "      <td>1992</td>\n",
       "      <td>3847.025911</td>\n",
       "    </tr>\n",
       "  </tbody>\n",
       "</table>\n",
       "</div>"
      ],
      "text/plain": [
       "     Country  Year  GDP_Per_Capita\n",
       "7059   Tonga  1992     3847.025911"
      ]
     },
     "execution_count": 8,
     "metadata": {},
     "output_type": "execute_result"
    }
   ],
   "source": [
    "gdp_df.info()\n",
    "gdp_df.sample()"
   ]
  },
  {
   "cell_type": "markdown",
   "id": "c3ec311e-78bc-4975-bbc4-3babc84e0ac1",
   "metadata": {},
   "source": [
    "Which years are represented in this dataset? Take a look at the number of observations per year. What do you notice? \n",
    "\n",
    "The years are 1990 to 2022. The number of observations is the lowest in 1990 and goes up into the 2000s and 2010s capping at 2013 before going back down a little in 2021."
   ]
  },
  {
   "cell_type": "code",
   "execution_count": 10,
   "id": "68939442-293b-4579-a824-07737bcbd4ce",
   "metadata": {},
   "outputs": [
    {
     "data": {
      "text/plain": [
       "Year\n",
       "1990    207\n",
       "1991    208\n",
       "1992    210\n",
       "1993    211\n",
       "1994    213\n",
       "1995    223\n",
       "1996    223\n",
       "1997    226\n",
       "1998    226\n",
       "1999    227\n",
       "2000    233\n",
       "2001    234\n",
       "2002    235\n",
       "2003    235\n",
       "2004    236\n",
       "2005    236\n",
       "2006    237\n",
       "2007    237\n",
       "2008    238\n",
       "2009    239\n",
       "2010    239\n",
       "2011    240\n",
       "2012    240\n",
       "2013    242\n",
       "2014    242\n",
       "2015    242\n",
       "2016    242\n",
       "2017    242\n",
       "2018    242\n",
       "2019    242\n",
       "2020    242\n",
       "2021    241\n",
       "2022    232\n",
       "Freq: Y-DEC, Name: count, dtype: int64"
      ]
     },
     "execution_count": 10,
     "metadata": {},
     "output_type": "execute_result"
    }
   ],
   "source": [
    "gdp_df[\"Year\"].min(),\n",
    "gdp_df[\"Year\"].max(),\n",
    "gdp_df[\"Year\"].value_counts().sort_index()"
   ]
  },
  {
   "cell_type": "code",
   "execution_count": 11,
   "id": "4a721c20-ff85-4b68-bda7-e49b161c5dc4",
   "metadata": {},
   "outputs": [
    {
     "data": {
      "text/plain": [
       "Country\n",
       "Least developed countries: UN classification    33\n",
       "Middle East & North Africa                      33\n",
       "Middle East & North Africa (IDA & IBRD)         33\n",
       "Middle income                                   33\n",
       "Mongolia                                        33\n",
       "                                                ..\n",
       "Kosovo                                          15\n",
       "Sint Maarten (Dutch part)                       14\n",
       "Turks and Caicos Islands                        12\n",
       "Somalia                                         10\n",
       "Djibouti                                        10\n",
       "Name: count, Length: 242, dtype: int64"
      ]
     },
     "execution_count": 11,
     "metadata": {},
     "output_type": "execute_result"
    }
   ],
   "source": [
    "gdp_df['Country'].nunique()\n",
    "gdp_df['Country'].value_counts()"
   ]
  },
  {
   "cell_type": "markdown",
   "id": "da1332de-0d69-4803-b744-aa8353d2e116",
   "metadata": {
    "jp-MarkdownHeadingCollapsed": true
   },
   "source": [
    "How many countries are represented in this dataset? Which countries are least represented in the dataset? Why do you think these countries have so few observations? \n",
    "\n",
    "There are 242 countries. The least represented are the Middle Eastern and African countries. I think this would be due to these countries being less developed, nd thus having less data collection organizations."
   ]
  },
  {
   "cell_type": "markdown",
   "id": "bb3127f2-e133-4852-875d-9a473f144677",
   "metadata": {},
   "source": [
    "Create a new dataframe by subsetting gdp_df to just the year 2021. Call this new dataframe gdp_2021."
   ]
  },
  {
   "cell_type": "code",
   "execution_count": 14,
   "id": "c897a8ae-909c-4cfa-90c2-70c58cba1eb3",
   "metadata": {},
   "outputs": [],
   "source": [
    "gdp_2021 = gdp_df.loc[gdp_df[\"Year\"] == '2021']"
   ]
  },
  {
   "cell_type": "code",
   "execution_count": 15,
   "id": "b334dca6-f0cb-4160-b3d8-01f26d122aa1",
   "metadata": {},
   "outputs": [
    {
     "data": {
      "text/plain": [
       "count       241.000000\n",
       "mean      20711.570080\n",
       "std       20916.978968\n",
       "min         714.066712\n",
       "25%        5044.196028\n",
       "50%       13754.802423\n",
       "75%       30974.370692\n",
       "max      115683.493708\n",
       "Name: GDP_Per_Capita, dtype: float64"
      ]
     },
     "execution_count": 15,
     "metadata": {},
     "output_type": "execute_result"
    }
   ],
   "source": [
    "gdp_2021['GDP_Per_Capita'].describe()"
   ]
  },
  {
   "cell_type": "markdown",
   "id": "b3eeddb1-c88c-4b76-8ea1-e74163b44359",
   "metadata": {},
   "source": [
    "Create a histogram of GDP Per Capita numbers for 2021 (you may wish to adjust the number of bins for your histogram). How would you describe the shape of the distribution? It is unimodal with a heavy right skew. "
   ]
  },
  {
   "cell_type": "code",
   "execution_count": 165,
   "id": "b12db38c-0141-42d8-ad34-3b08286335a8",
   "metadata": {},
   "outputs": [
    {
     "data": {
      "image/png": "[encoded data removed]",
      "text/plain": [
       "<Figure size 640x480 with 1 Axes>"
      ]
     },
     "metadata": {},
     "output_type": "display_data"
    }
   ],
   "source": [
    "gdp_2021['GDP_Per_Capita'].hist(grid=False, color='#86bf91', zorder=2, rwidth=0.9);\n",
    "plt.xlabel('Frequency of GDP')                            \n",
    "plt.ylabel('GDP Per Capita')\n",
    "plt.title('GDP Per Capita of 242 Countries 2021');"
   ]
  },
  {
   "cell_type": "markdown",
   "id": "c5fd453b-e666-49b2-9e5a-eb991319fdf6",
   "metadata": {},
   "source": [
    "Find the top 5 counties and bottom 5 countries by GDP per capita in 2021."
   ]
  },
  {
   "cell_type": "code",
   "execution_count": 155,
   "id": "a930bef9-fa71-4dbb-9e7d-d00b12f377a8",
   "metadata": {},
   "outputs": [
    {
     "data": {
      "text/html": [
       "<div>\n",
       "<style scoped>\n",
       "    .dataframe tbody tr th:only-of-type {\n",
       "        vertical-align: middle;\n",
       "    }\n",
       "\n",
       "    .dataframe tbody tr th {\n",
       "        vertical-align: top;\n",
       "    }\n",
       "\n",
       "    .dataframe thead th {\n",
       "        text-align: right;\n",
       "    }\n",
       "</style>\n",
       "<table border=\"1\" class=\"dataframe\">\n",
       "  <thead>\n",
       "    <tr style=\"text-align: right;\">\n",
       "      <th></th>\n",
       "      <th>Country</th>\n",
       "      <th>Year</th>\n",
       "      <th>GDP_Per_Capita</th>\n",
       "    </tr>\n",
       "  </thead>\n",
       "  <tbody>\n",
       "    <tr>\n",
       "      <th>4147</th>\n",
       "      <td>Luxembourg</td>\n",
       "      <td>2021</td>\n",
       "      <td>115683.493708</td>\n",
       "    </tr>\n",
       "    <tr>\n",
       "      <th>6107</th>\n",
       "      <td>Singapore</td>\n",
       "      <td>2021</td>\n",
       "      <td>107741.118436</td>\n",
       "    </tr>\n",
       "    <tr>\n",
       "      <th>3278</th>\n",
       "      <td>Ireland</td>\n",
       "      <td>2021</td>\n",
       "      <td>102785.490239</td>\n",
       "    </tr>\n",
       "    <tr>\n",
       "      <th>5745</th>\n",
       "      <td>Qatar</td>\n",
       "      <td>2021</td>\n",
       "      <td>92862.571798</td>\n",
       "    </tr>\n",
       "    <tr>\n",
       "      <th>680</th>\n",
       "      <td>Bermuda</td>\n",
       "      <td>2021</td>\n",
       "      <td>78570.489515</td>\n",
       "    </tr>\n",
       "  </tbody>\n",
       "</table>\n",
       "</div>"
      ],
      "text/plain": [
       "         Country  Year  GDP_Per_Capita\n",
       "4147  Luxembourg  2021   115683.493708\n",
       "6107   Singapore  2021   107741.118436\n",
       "3278     Ireland  2021   102785.490239\n",
       "5745       Qatar  2021    92862.571798\n",
       "680      Bermuda  2021    78570.489515"
      ]
     },
     "execution_count": 155,
     "metadata": {},
     "output_type": "execute_result"
    }
   ],
   "source": [
    "gdp_2021.sort_values('GDP_Per_Capita', ascending = False).head(5)"
   ]
  },
  {
   "cell_type": "code",
   "execution_count": 161,
   "id": "e633e6d6-89b1-495f-8522-9c653e027a1e",
   "metadata": {},
   "outputs": [
    {
     "data": {
      "text/html": [
       "<div>\n",
       "<style scoped>\n",
       "    .dataframe tbody tr th:only-of-type {\n",
       "        vertical-align: middle;\n",
       "    }\n",
       "\n",
       "    .dataframe tbody tr th {\n",
       "        vertical-align: top;\n",
       "    }\n",
       "\n",
       "    .dataframe thead th {\n",
       "        text-align: right;\n",
       "    }\n",
       "</style>\n",
       "<table border=\"1\" class=\"dataframe\">\n",
       "  <thead>\n",
       "    <tr style=\"text-align: right;\">\n",
       "      <th></th>\n",
       "      <th>Country</th>\n",
       "      <th>Year</th>\n",
       "      <th>GDP_Per_Capita</th>\n",
       "    </tr>\n",
       "  </thead>\n",
       "  <tbody>\n",
       "    <tr>\n",
       "      <th>5073</th>\n",
       "      <td>Niger</td>\n",
       "      <td>2021</td>\n",
       "      <td>1186.576809</td>\n",
       "    </tr>\n",
       "    <tr>\n",
       "      <th>6272</th>\n",
       "      <td>Somalia</td>\n",
       "      <td>2021</td>\n",
       "      <td>1136.735989</td>\n",
       "    </tr>\n",
       "    <tr>\n",
       "      <th>1629</th>\n",
       "      <td>Dem. Rep. Congo</td>\n",
       "      <td>2021</td>\n",
       "      <td>1073.643271</td>\n",
       "    </tr>\n",
       "    <tr>\n",
       "      <th>1216</th>\n",
       "      <td>Central African Republic</td>\n",
       "      <td>2021</td>\n",
       "      <td>837.504686</td>\n",
       "    </tr>\n",
       "    <tr>\n",
       "      <th>972</th>\n",
       "      <td>Burundi</td>\n",
       "      <td>2021</td>\n",
       "      <td>714.066712</td>\n",
       "    </tr>\n",
       "  </tbody>\n",
       "</table>\n",
       "</div>"
      ],
      "text/plain": [
       "                       Country  Year  GDP_Per_Capita\n",
       "5073                     Niger  2021     1186.576809\n",
       "6272                   Somalia  2021     1136.735989\n",
       "1629           Dem. Rep. Congo  2021     1073.643271\n",
       "1216  Central African Republic  2021      837.504686\n",
       "972                    Burundi  2021      714.066712"
      ]
     },
     "execution_count": 161,
     "metadata": {},
     "output_type": "execute_result"
    }
   ],
   "source": [
    "gdp_2021.sort_values('GDP_Per_Capita', ascending = False).tail(5)"
   ]
  },
  {
   "cell_type": "markdown",
   "id": "4b7626f0-0e0a-4091-b9e0-5babd169a052",
   "metadata": {},
   "source": [
    "Now, return to the full dataset, gdp_df. Pivot the data for 1990 and 2021 (using the pandas .pivot_table() method or another method) so that each row corresponds to a country, each column corresponds to a year, and the values in the table give the GDP_Per_Capita amount. Drop any rows that are missing values for either 1990 or 2021. Save the result to a dataframe named gdp_pivoted"
   ]
  },
  {
   "cell_type": "code",
   "execution_count": 21,
   "id": "962da948-8a25-45e4-838c-116f8670d43d",
   "metadata": {},
   "outputs": [],
   "source": [
    "gdp_pivoted = (\n",
    "    gdp_df\n",
    "    .pivot_table('GDP_Per_Capita', index = 'Country', columns = 'Year')\n",
    "    .dropna(axis='rows', subset=['1990', '2021'])\n",
    "    .loc[:, ['1990', '2021']]\n",
    ")"
   ]
  },
  {
   "cell_type": "markdown",
   "id": "4b63fd2b-16ed-45ff-b77d-d9b093f0c57a",
   "metadata": {},
   "source": [
    "Create a new column in gdp_pivoted named Percent_Change. This column should contain the percent change in GDP_Per_Capita from 1990 to 2021. Hint: Percent change is calculated as 100*(New Value - Old Value) / Old Value."
   ]
  },
  {
   "cell_type": "code",
   "execution_count": 23,
   "id": "ab8f2609-3143-4251-a966-804862a5c2ff",
   "metadata": {},
   "outputs": [],
   "source": [
    "gdp_pivoted['Percent_Change'] = 100 * (gdp_pivoted['2021'] - gdp_pivoted['1990']) / gdp_pivoted['1990']"
   ]
  },
  {
   "cell_type": "code",
   "execution_count": 131,
   "id": "ebc49b91-a9df-42e1-a281-12123cee9f57",
   "metadata": {},
   "outputs": [
    {
     "data": {
      "text/plain": [
       "Country\n",
       "Burundi                                    -39.236385\n",
       "Dem. Rep. Congo                            -38.654906\n",
       "Congo                                      -35.406695\n",
       "United Arab Emirates                       -34.147317\n",
       "Central African Republic                   -30.243599\n",
       "Zimbabwe                                   -21.799100\n",
       "Gabon                                      -21.325301\n",
       "Ukraine                                    -21.177578\n",
       "Haiti                                      -20.251203\n",
       "Madagascar                                 -18.043873\n",
       "The Bahamas                                -15.757559\n",
       "Brunei                                     -14.542192\n",
       "Fragile and conflict affected situations   -10.913738\n",
       "Guinea-Bissau                               -8.347123\n",
       "Kyrgyz Republic                             -4.352813\n",
       "Barbados                                    -2.430187\n",
       "Tajikistan                                  -2.014757\n",
       "Kiribati                                    -1.822996\n",
       "The Gambia                                  -0.172662\n",
       "Vanuatu                                      0.950043\n",
       "Name: Percent_Change, dtype: float64"
      ]
     },
     "execution_count": 131,
     "metadata": {},
     "output_type": "execute_result"
    }
   ],
   "source": [
    "gdp_pivoted['Percent_Change'].nsmallest(20)"
   ]
  },
  {
   "cell_type": "markdown",
   "id": "24d2f34a-69be-4b43-ab66-c7df683d80b2",
   "metadata": {},
   "source": [
    "How many countries experienced a negative percent change in GDP per capita from 1990 to 2021? 19 Countries experienced a negative percent change."
   ]
  },
  {
   "cell_type": "markdown",
   "id": "5896304a-9699-42a8-9a85-35e1c918d3af",
   "metadata": {},
   "source": [
    "Which country had the highest % change in GDP per capita? Create a line plot showing this country's GDP per capita for all years from 1990 to 2022. Create another showing the country with the second highest % change in GDP. How do the trends in these countries compare?\n",
    "Bonus: Put both line charts on the same plot.\n",
    "Guinea had the highest change in fluctuation, peaking at 2008 and then crashing. China, the second, is steadily on the rise and has recently passed Guinea (2020)."
   ]
  },
  {
   "cell_type": "code",
   "execution_count": 129,
   "id": "da2cdecd-9b15-4386-9d2f-9d01119e0b97",
   "metadata": {},
   "outputs": [
    {
     "data": {
      "text/plain": [
       "Country\n",
       "Equatorial Guinea                              1463.081870\n",
       "China                                          1140.082904\n",
       "East Asia & Pacific (excluding high income)     603.268440\n",
       "East Asia & Pacific (IDA & IBRD)                602.726652\n",
       "Myanmar                                         593.351678\n",
       "Name: Percent_Change, dtype: float64"
      ]
     },
     "execution_count": 129,
     "metadata": {},
     "output_type": "execute_result"
    }
   ],
   "source": [
    "gdp_pivoted['Percent_Change'].nlargest()"
   ]
  },
  {
   "cell_type": "code",
   "execution_count": 28,
   "id": "923f4cc6-0f60-4587-af7c-73a934099d4b",
   "metadata": {},
   "outputs": [],
   "source": [
    "gdp_percent_change_table = (\n",
    "    gdp_df\n",
    "    .pivot_table('GDP_Per_Capita', index = 'Country', columns = 'Year')\n",
    "    .dropna(axis='rows', subset=['1990', '2021'])\n",
    ")"
   ]
  },
  {
   "cell_type": "code",
   "execution_count": 29,
   "id": "cc754e56-7dd6-4f6e-85a8-c149930374df",
   "metadata": {},
   "outputs": [
    {
     "data": {
      "image/png": "[encoded data removed]",
      "text/plain": [
       "<Figure size 640x480 with 1 Axes>"
      ]
     },
     "metadata": {},
     "output_type": "display_data"
    }
   ],
   "source": [
    "gdp_percent_change_table.loc['Equatorial Guinea'].plot.line(label='New Guinea'), \n",
    "gdp_percent_change_table.loc['China'].plot.line(label='China').legend()\n",
    "plt.xlabel('Years')                            \n",
    "plt.ylabel('GDP Per Capita')\n",
    "plt.title('GDP Per Capita Percent Change of Equatorial New Guinea and China');"
   ]
  },
  {
   "cell_type": "code",
   "execution_count": 30,
   "id": "15fb0aea-b7b2-4180-8c56-806716bb6fbb",
   "metadata": {},
   "outputs": [],
   "source": [
    "continents = pd.read_csv(\"../data/continents.csv\")"
   ]
  },
  {
   "cell_type": "markdown",
   "id": "1bc89725-20bc-4f11-ac67-299419af13ce",
   "metadata": {},
   "source": [
    "Merge gdp_df and continents. Keep only the countries that appear in both data frames. Save the result back to gdp_df."
   ]
  },
  {
   "cell_type": "code",
   "execution_count": 32,
   "id": "b59f1e31-b3fe-4969-ab15-951403b987ef",
   "metadata": {},
   "outputs": [],
   "source": [
    "gdp_df = pd.merge(gdp_df, continents, on = 'Country')"
   ]
  },
  {
   "cell_type": "markdown",
   "id": "8516b463-de4b-4c62-beca-467d08d39c2b",
   "metadata": {},
   "source": [
    "Determine the number of countries per continent. Create a bar chart showing this."
   ]
  },
  {
   "cell_type": "code",
   "execution_count": 34,
   "id": "3df5b90e-962d-4a5c-98e8-769be258f3e2",
   "metadata": {},
   "outputs": [
    {
     "data": {
      "text/plain": [
       "array([1585, 1372, 1297,  840,  436,  363], dtype=int64)"
      ]
     },
     "execution_count": 34,
     "metadata": {},
     "output_type": "execute_result"
    }
   ],
   "source": [
    "gdp_df.Continent.value_counts().unique()"
   ]
  },
  {
   "cell_type": "code",
   "execution_count": 35,
   "id": "af031d0c-ee1c-44cb-90e2-7a4aa6ecc989",
   "metadata": {},
   "outputs": [],
   "source": [
    "gdp_df_clean = gdp_df.drop_duplicates(subset='Country')\n",
    "gdp_df_counts= gdp_df_clean['Continent'].value_counts()"
   ]
  },
  {
   "cell_type": "code",
   "execution_count": 169,
   "id": "4c74de44-82e2-4e09-a399-961a140c4eee",
   "metadata": {},
   "outputs": [
    {
     "data": {
      "image/png": "[encoded data removed]",
      "text/plain": [
       "<Figure size 640x480 with 1 Axes>"
      ]
     },
     "metadata": {},
     "output_type": "display_data"
    }
   ],
   "source": [
    "plt.bar(gdp_df_clean['Continent'].unique(), gdp_df_counts, color='#86bf91')\n",
    "plt.title('Countries Per Continent')\n",
    "plt.xticks(rotation=45);"
   ]
  },
  {
   "cell_type": "markdown",
   "id": "1af1b907-a074-4597-a0a5-c70523ecb08c",
   "metadata": {},
   "source": [
    "Create a seaborn boxplot showing GDP per capita in 2021 split out by continent. What do you notice?"
   ]
  },
  {
   "cell_type": "code",
   "execution_count": 38,
   "id": "253eb2e6-b4e4-477e-b60d-9fe44c5b72f2",
   "metadata": {},
   "outputs": [],
   "source": [
    "gdp_cont_2021 = (\n",
    "    gdp_df.pivot_table('GDP_Per_Capita', index = 'Year', columns = 'Continent')\n",
    "    .dropna()\n",
    ")"
   ]
  },
  {
   "cell_type": "code",
   "execution_count": 39,
   "id": "3030eb9a-da72-4092-bb51-0b13c5d29b38",
   "metadata": {},
   "outputs": [],
   "source": [
    "gdp_cont_2021 = gdp_df.loc[gdp_df[\"Year\"] == '2021']"
   ]
  },
  {
   "cell_type": "code",
   "execution_count": 41,
   "id": "7d952a9e-a0e8-4384-a005-7295010873ea",
   "metadata": {},
   "outputs": [],
   "source": [
    "gdp_2021_melted = gdp_cont_2021.melt(['Continent', 'GDP_Per_Capita']).drop_duplicates()"
   ]
  },
  {
   "cell_type": "code",
   "execution_count": 171,
   "id": "841c7f77-d4e4-40a2-978d-2ce062428ef6",
   "metadata": {},
   "outputs": [
    {
     "data": {
      "image/png": "[encoded data removed]",
      "text/plain": [
       "<Figure size 640x480 with 1 Axes>"
      ]
     },
     "metadata": {},
     "output_type": "display_data"
    }
   ],
   "source": [
    "sns.boxplot(\n",
    "        data = gdp_2021_melted\n",
    "        .sort_values('Continent'), x = 'GDP_Per_Capita', y = 'Continent', color='#86bf91'\n",
    ");"
   ]
  },
  {
   "cell_type": "code",
   "execution_count": 44,
   "id": "f045017b-e3be-41f0-bc95-623df51e57cb",
   "metadata": {},
   "outputs": [],
   "source": [
    "life_expectancy = pd.read_csv(\"../data/API_SP.DYN.LE00.IN_DS2_en_csv_v2_31632.csv\", skiprows = 4)"
   ]
  },
  {
   "cell_type": "markdown",
   "id": "8b31e024-251c-4f58-9d3e-9671160e2ca4",
   "metadata": {},
   "source": [
    "Drop the Country Code, Indicator Name, and Indicator Code columns. Then use .melt() to convert your data from wide to long. That is, instead of having one row per country and multiple colums per year, we want to have multiple rows per country and a single column for year. After melting, rename the columns to Country, Year, and Life_Expectancy."
   ]
  },
  {
   "cell_type": "code",
   "execution_count": 46,
   "id": "7c5db803-499c-4ed3-b511-e4d5f42cb4e5",
   "metadata": {},
   "outputs": [],
   "source": [
    "life_expectancy = life_expectancy.drop(columns=['Country Code', 'Indicator Name', 'Indicator Code', 'Unnamed: 68', '2023'], errors='ignore')"
   ]
  },
  {
   "cell_type": "code",
   "execution_count": 47,
   "id": "826f3011-c13b-4e19-a1bf-2c4423b569a9",
   "metadata": {},
   "outputs": [],
   "source": [
    "life_expectancy = life_expectancy.melt(id_vars='Country Name')"
   ]
  },
  {
   "cell_type": "code",
   "execution_count": 48,
   "id": "ef2428dd-df1b-4f1e-8f9e-9cbaccdf4393",
   "metadata": {},
   "outputs": [],
   "source": [
    "life_expectancy = life_expectancy.rename(columns={\"Country Name\" : \"Country\", \"variable\" : \"Year\", \"value\" : \"Life_Expectancy\"})"
   ]
  },
  {
   "cell_type": "markdown",
   "id": "328a113a-f894-43a7-9514-2aeb1435097d",
   "metadata": {},
   "source": [
    "What was the first country with a life expectancy to exceed 80?\n",
    "\n",
    "Japan, in the year 1996 was the first Country to achieve this."
   ]
  },
  {
   "cell_type": "code",
   "execution_count": 50,
   "id": "c9fdd185-6b24-4ec6-b9e4-cd403aec345c",
   "metadata": {},
   "outputs": [],
   "source": [
    "life_over_80 = life_expectancy.loc[life_expectancy['Life_Expectancy'] > 80]"
   ]
  },
  {
   "cell_type": "code",
   "execution_count": 51,
   "id": "ca7f2fac-af12-4062-8a51-e5204837ec88",
   "metadata": {},
   "outputs": [
    {
     "data": {
      "text/html": [
       "<div>\n",
       "<style scoped>\n",
       "    .dataframe tbody tr th:only-of-type {\n",
       "        vertical-align: middle;\n",
       "    }\n",
       "\n",
       "    .dataframe tbody tr th {\n",
       "        vertical-align: top;\n",
       "    }\n",
       "\n",
       "    .dataframe thead th {\n",
       "        text-align: right;\n",
       "    }\n",
       "</style>\n",
       "<table border=\"1\" class=\"dataframe\">\n",
       "  <thead>\n",
       "    <tr style=\"text-align: right;\">\n",
       "      <th></th>\n",
       "      <th>Country</th>\n",
       "      <th>Year</th>\n",
       "      <th>Life_Expectancy</th>\n",
       "    </tr>\n",
       "  </thead>\n",
       "  <tbody>\n",
       "    <tr>\n",
       "      <th>9695</th>\n",
       "      <td>Japan</td>\n",
       "      <td>1996</td>\n",
       "      <td>80.219756</td>\n",
       "    </tr>\n",
       "    <tr>\n",
       "      <th>9926</th>\n",
       "      <td>Gibraltar</td>\n",
       "      <td>1997</td>\n",
       "      <td>80.343000</td>\n",
       "    </tr>\n",
       "    <tr>\n",
       "      <th>9938</th>\n",
       "      <td>Hong Kong SAR, China</td>\n",
       "      <td>1997</td>\n",
       "      <td>80.112195</td>\n",
       "    </tr>\n",
       "    <tr>\n",
       "      <th>9961</th>\n",
       "      <td>Japan</td>\n",
       "      <td>1997</td>\n",
       "      <td>80.424146</td>\n",
       "    </tr>\n",
       "    <tr>\n",
       "      <th>9988</th>\n",
       "      <td>Macao SAR, China</td>\n",
       "      <td>1997</td>\n",
       "      <td>80.162000</td>\n",
       "    </tr>\n",
       "    <tr>\n",
       "      <th>...</th>\n",
       "      <td>...</td>\n",
       "      <td>...</td>\n",
       "      <td>...</td>\n",
       "    </tr>\n",
       "    <tr>\n",
       "      <th>16576</th>\n",
       "      <td>Gibraltar</td>\n",
       "      <td>2022</td>\n",
       "      <td>82.830000</td>\n",
       "    </tr>\n",
       "    <tr>\n",
       "      <th>16581</th>\n",
       "      <td>Greece</td>\n",
       "      <td>2022</td>\n",
       "      <td>80.636585</td>\n",
       "    </tr>\n",
       "    <tr>\n",
       "      <th>16588</th>\n",
       "      <td>Hong Kong SAR, China</td>\n",
       "      <td>2022</td>\n",
       "      <td>83.660976</td>\n",
       "    </tr>\n",
       "    <tr>\n",
       "      <th>16550</th>\n",
       "      <td>Denmark</td>\n",
       "      <td>2022</td>\n",
       "      <td>81.304878</td>\n",
       "    </tr>\n",
       "    <tr>\n",
       "      <th>16748</th>\n",
       "      <td>Virgin Islands (U.S.)</td>\n",
       "      <td>2022</td>\n",
       "      <td>80.319512</td>\n",
       "    </tr>\n",
       "  </tbody>\n",
       "</table>\n",
       "<p>690 rows × 3 columns</p>\n",
       "</div>"
      ],
      "text/plain": [
       "                     Country  Year  Life_Expectancy\n",
       "9695                   Japan  1996        80.219756\n",
       "9926               Gibraltar  1997        80.343000\n",
       "9938    Hong Kong SAR, China  1997        80.112195\n",
       "9961                   Japan  1997        80.424146\n",
       "9988        Macao SAR, China  1997        80.162000\n",
       "...                      ...   ...              ...\n",
       "16576              Gibraltar  2022        82.830000\n",
       "16581                 Greece  2022        80.636585\n",
       "16588   Hong Kong SAR, China  2022        83.660976\n",
       "16550                Denmark  2022        81.304878\n",
       "16748  Virgin Islands (U.S.)  2022        80.319512\n",
       "\n",
       "[690 rows x 3 columns]"
      ]
     },
     "execution_count": 51,
     "metadata": {},
     "output_type": "execute_result"
    }
   ],
   "source": [
    "life_over_80.sort_values('Year')"
   ]
  },
  {
   "cell_type": "code",
   "execution_count": 207,
   "id": "b56c365e-d117-48ec-ac6f-cba326d58600",
   "metadata": {},
   "outputs": [],
   "source": [
    "life_expectancy['Year'] = pd.to_datetime(\n",
    "    life_expectancy['Year'], \n",
    "    format = '%Y', \n",
    "    errors='coerce').dt.to_period('Y')"
   ]
  },
  {
   "cell_type": "markdown",
   "id": "9ba89a97-4657-4cc1-91a6-426f2382062e",
   "metadata": {},
   "source": [
    "Merge gdp_df and life_expectancy, keeping all countries and years that appear in both DataFrames. Save the result to a new DataFrame named gdp_le. If you get any errors in doing this, read them carefully and correct them. Look at the first five rows of your new data frame to confirm it merged correctly. Also, check the last five rows to make sure the data is clean and as expected."
   ]
  },
  {
   "cell_type": "code",
   "execution_count": 54,
   "id": "12f5cfc4-f9e2-4f8e-8429-9c5b25b3304f",
   "metadata": {},
   "outputs": [],
   "source": [
    "gdp_le = pd.merge(gdp_df, life_expectancy, on=['Country', 'Year'])"
   ]
  },
  {
   "cell_type": "code",
   "execution_count": 55,
   "id": "0993ed29-1d25-473e-9b59-96b62a7dbaa8",
   "metadata": {},
   "outputs": [],
   "source": [
    "gdp_le['Year'] = gdp_le['Year'].astype(str)"
   ]
  },
  {
   "cell_type": "markdown",
   "id": "dc5b9399-2f0b-4ddb-9eb2-ac7f2fcc214b",
   "metadata": {},
   "source": [
    "Create a new DataFrame, named gdp_le_2021 by extracting data for the year 2021 from gdp_le. How many countries have a life expectancy of at least 80 in 2021?\n",
    "\n",
    "At least 31 Countries have a life expectancy 80 or higher in 2021."
   ]
  },
  {
   "cell_type": "code",
   "execution_count": 57,
   "id": "9e4ac4fe-1bac-4f77-885c-1beff7fb1f28",
   "metadata": {},
   "outputs": [],
   "source": [
    "gdp_le_2021 = gdp_le.loc[gdp_le['Year'] == '2021'].reset_index()"
   ]
  },
  {
   "cell_type": "code",
   "execution_count": 209,
   "id": "5ee159cb-fc44-48e2-a9dc-85fbd43d0403",
   "metadata": {},
   "outputs": [
    {
     "data": {
      "text/plain": [
       "(31, 7)"
      ]
     },
     "execution_count": 209,
     "metadata": {},
     "output_type": "execute_result"
    }
   ],
   "source": [
    "gdp_le_2021.loc[gdp_le_2021['Life_Expectancy'] >= 80].sort_values('Country').shape"
   ]
  },
  {
   "cell_type": "markdown",
   "id": "63d4ce55-f7ec-408a-bd8e-def6039ac4c4",
   "metadata": {},
   "source": [
    "Find the countries that had the top 3 largest GDP per capita figures for 2021. Create a seaborn FacetGrid showing the change in life expectancy over time for these three countries. Each individual figure in the facet grid will represent a single country."
   ]
  },
  {
   "cell_type": "code",
   "execution_count": 60,
   "id": "15f4ed02-c5da-41bb-849a-3b724cd4303c",
   "metadata": {
    "scrolled": true
   },
   "outputs": [
    {
     "data": {
      "text/html": [
       "<div>\n",
       "<style scoped>\n",
       "    .dataframe tbody tr th:only-of-type {\n",
       "        vertical-align: middle;\n",
       "    }\n",
       "\n",
       "    .dataframe tbody tr th {\n",
       "        vertical-align: top;\n",
       "    }\n",
       "\n",
       "    .dataframe thead th {\n",
       "        text-align: right;\n",
       "    }\n",
       "</style>\n",
       "<table border=\"1\" class=\"dataframe\">\n",
       "  <thead>\n",
       "    <tr style=\"text-align: right;\">\n",
       "      <th></th>\n",
       "      <th>index</th>\n",
       "      <th>Country</th>\n",
       "      <th>Year</th>\n",
       "      <th>GDP_Per_Capita</th>\n",
       "      <th>Continent</th>\n",
       "      <th>Life_Expectancy</th>\n",
       "    </tr>\n",
       "  </thead>\n",
       "  <tbody>\n",
       "    <tr>\n",
       "      <th>91</th>\n",
       "      <td>2871</td>\n",
       "      <td>Luxembourg</td>\n",
       "      <td>2021</td>\n",
       "      <td>115683.493708</td>\n",
       "      <td>Europe</td>\n",
       "      <td>82.597561</td>\n",
       "    </tr>\n",
       "    <tr>\n",
       "      <th>140</th>\n",
       "      <td>4423</td>\n",
       "      <td>Singapore</td>\n",
       "      <td>2021</td>\n",
       "      <td>107741.118436</td>\n",
       "      <td>Asia</td>\n",
       "      <td>83.092683</td>\n",
       "    </tr>\n",
       "    <tr>\n",
       "      <th>72</th>\n",
       "      <td>2299</td>\n",
       "      <td>Ireland</td>\n",
       "      <td>2021</td>\n",
       "      <td>102785.490239</td>\n",
       "      <td>Europe</td>\n",
       "      <td>82.353659</td>\n",
       "    </tr>\n",
       "  </tbody>\n",
       "</table>\n",
       "</div>"
      ],
      "text/plain": [
       "     index     Country  Year  GDP_Per_Capita Continent  Life_Expectancy\n",
       "91    2871  Luxembourg  2021   115683.493708    Europe        82.597561\n",
       "140   4423   Singapore  2021   107741.118436      Asia        83.092683\n",
       "72    2299     Ireland  2021   102785.490239    Europe        82.353659"
      ]
     },
     "metadata": {},
     "output_type": "display_data"
    }
   ],
   "source": [
    "display(gdp_le_2021.nlargest(3, 'GDP_Per_Capita'))"
   ]
  },
  {
   "cell_type": "code",
   "execution_count": 61,
   "id": "72a4962a-26db-4ef5-adca-7bf4f3d3dd78",
   "metadata": {},
   "outputs": [],
   "source": [
    "gdp_le_top3 = gdp_le[gdp_le['Country'].isin(['Luxembourg', 'Singapore', 'Ireland'])].sort_values('Year')"
   ]
  },
  {
   "cell_type": "code",
   "execution_count": 203,
   "id": "1f0df2de-31f8-4fd8-88e4-898aa39d517f",
   "metadata": {},
   "outputs": [
    {
     "data": {
      "image/png": "[encoded data removed]",
      "text/plain": [
       "<Figure size 900x300 with 3 Axes>"
      ]
     },
     "metadata": {},
     "output_type": "display_data"
    }
   ],
   "source": [
    "grid = sns.FacetGrid(gdp_le_top3, col='Country')\n",
    "grid.map_dataframe(\n",
    "    sns\n",
    "    .lineplot, \n",
    "    x = 'Year', \n",
    "    y = 'Life_Expectancy', \n",
    "    color='#86bf91').tick_params(\n",
    "    axis='x', \n",
    "    rotation=45)\n",
    "plt.xticks(np.arange(0, 34, step=5));"
   ]
  },
  {
   "cell_type": "markdown",
   "id": "69c4b93b-6479-4102-93f3-6a7e18df60d6",
   "metadata": {},
   "source": [
    "Create a scatter plot of Life Expectancy vs GDP per Capita for the year 2021. What do you notice?\n",
    "\n",
    "There is a smooth climb in gdp per capita as life expectancy goes up. It seems to me, the older people get, the more the country is able to have more money per person in the country."
   ]
  },
  {
   "cell_type": "code",
   "execution_count": 177,
   "id": "112df4f8-8a17-44a5-9ccc-91eae68b3237",
   "metadata": {},
   "outputs": [
    {
     "data": {
      "image/png": "[encoded data removed]",
      "text/plain": [
       "<Figure size 640x480 with 1 Axes>"
      ]
     },
     "metadata": {},
     "output_type": "display_data"
    }
   ],
   "source": [
    "gdp_le_2021.plot(kind='scatter',\n",
    "    x=\"Life_Expectancy\",\n",
    "    y=\"GDP_Per_Capita\",\n",
    "    color='#86bf91',\n",
    ");"
   ]
  },
  {
   "cell_type": "markdown",
   "id": "1a452524-0990-4ca3-a0a2-41d65674be81",
   "metadata": {},
   "source": [
    "Find the correlation between Life Expectancy and GDP per Capita for the year 2021. What is the meaning of this number?\n",
    "\n",
    "The number .74 is the correlation coefficient and that says how likely it is that these events are related to each other in some way. This is a decent correlation. "
   ]
  },
  {
   "cell_type": "code",
   "execution_count": 66,
   "id": "10a345f5-9b51-4ed3-824b-b81976074537",
   "metadata": {},
   "outputs": [
    {
     "data": {
      "text/html": [
       "<div>\n",
       "<style scoped>\n",
       "    .dataframe tbody tr th:only-of-type {\n",
       "        vertical-align: middle;\n",
       "    }\n",
       "\n",
       "    .dataframe tbody tr th {\n",
       "        vertical-align: top;\n",
       "    }\n",
       "\n",
       "    .dataframe thead th {\n",
       "        text-align: right;\n",
       "    }\n",
       "</style>\n",
       "<table border=\"1\" class=\"dataframe\">\n",
       "  <thead>\n",
       "    <tr style=\"text-align: right;\">\n",
       "      <th></th>\n",
       "      <th>Life_Expectancy</th>\n",
       "      <th>GDP_Per_Capita</th>\n",
       "    </tr>\n",
       "  </thead>\n",
       "  <tbody>\n",
       "    <tr>\n",
       "      <th>Life_Expectancy</th>\n",
       "      <td>1.000000</td>\n",
       "      <td>0.745081</td>\n",
       "    </tr>\n",
       "    <tr>\n",
       "      <th>GDP_Per_Capita</th>\n",
       "      <td>0.745081</td>\n",
       "      <td>1.000000</td>\n",
       "    </tr>\n",
       "  </tbody>\n",
       "</table>\n",
       "</div>"
      ],
      "text/plain": [
       "                 Life_Expectancy  GDP_Per_Capita\n",
       "Life_Expectancy         1.000000        0.745081\n",
       "GDP_Per_Capita          0.745081        1.000000"
      ]
     },
     "execution_count": 66,
     "metadata": {},
     "output_type": "execute_result"
    }
   ],
   "source": [
    "gdp_le_2021[['Life_Expectancy', 'GDP_Per_Capita']].corr()"
   ]
  },
  {
   "cell_type": "code",
   "execution_count": 119,
   "id": "d57cb711-2171-442d-b8a2-411ec2caea52",
   "metadata": {},
   "outputs": [],
   "source": [
    "gdp_le_2021['log_gdp'] = np.log(gdp_le_2021['GDP_Per_Capita'])"
   ]
  },
  {
   "cell_type": "code",
   "execution_count": 68,
   "id": "8ca02395-ee52-42b4-bb32-b132fc3c39c8",
   "metadata": {},
   "outputs": [
    {
     "data": {
      "text/html": [
       "<div>\n",
       "<style scoped>\n",
       "    .dataframe tbody tr th:only-of-type {\n",
       "        vertical-align: middle;\n",
       "    }\n",
       "\n",
       "    .dataframe tbody tr th {\n",
       "        vertical-align: top;\n",
       "    }\n",
       "\n",
       "    .dataframe thead th {\n",
       "        text-align: right;\n",
       "    }\n",
       "</style>\n",
       "<table border=\"1\" class=\"dataframe\">\n",
       "  <thead>\n",
       "    <tr style=\"text-align: right;\">\n",
       "      <th></th>\n",
       "      <th>Life_Expectancy</th>\n",
       "      <th>log_gdp</th>\n",
       "    </tr>\n",
       "  </thead>\n",
       "  <tbody>\n",
       "    <tr>\n",
       "      <th>Life_Expectancy</th>\n",
       "      <td>1.000000</td>\n",
       "      <td>0.846575</td>\n",
       "    </tr>\n",
       "    <tr>\n",
       "      <th>log_gdp</th>\n",
       "      <td>0.846575</td>\n",
       "      <td>1.000000</td>\n",
       "    </tr>\n",
       "  </tbody>\n",
       "</table>\n",
       "</div>"
      ],
      "text/plain": [
       "                 Life_Expectancy   log_gdp\n",
       "Life_Expectancy         1.000000  0.846575\n",
       "log_gdp                 0.846575  1.000000"
      ]
     },
     "execution_count": 68,
     "metadata": {},
     "output_type": "execute_result"
    }
   ],
   "source": [
    "gdp_le_2021[['Life_Expectancy', 'log_gdp']].corr()"
   ]
  },
  {
   "cell_type": "markdown",
   "id": "03306ac6-b9e2-4aef-951a-3d3b9233ac63",
   "metadata": {},
   "source": [
    "Add a column to gdp_le_2021 and calculate the logarithm of GDP per capita. Find the correlation between the log of GDP per capita and life expectancy. How does this compare to the calculation in the previous part? Look at a scatter plot to see if the result of this calculation makes sense.\n",
    "\n",
    "The log correlation is 10 points higher than the raw gdp. This is a good sign of correlation. The resulting scatter plot shows a good regression line that agrees with the correlation."
   ]
  },
  {
   "cell_type": "code",
   "execution_count": 179,
   "id": "66a6250d-de0b-42a0-a0b7-b083f5198222",
   "metadata": {},
   "outputs": [
    {
     "data": {
      "image/png": "[encoded data removed]",
      "text/plain": [
       "<Figure size 640x480 with 1 Axes>"
      ]
     },
     "metadata": {},
     "output_type": "display_data"
    }
   ],
   "source": [
    "gdp_le_2021.plot(kind='scatter',\n",
    "    x=\"Life_Expectancy\",\n",
    "    y=\"log_gdp\",\n",
    "    color='#86bf91',\n",
    ");"
   ]
  }
 ],
 "metadata": {
  "kernelspec": {
   "display_name": "Python 3 (ipykernel)",
   "language": "python",
   "name": "python3"
  },
  "language_info": {
   "codemirror_mode": {
    "name": "ipython",
    "version": 3
   },
   "file_extension": ".py",
   "mimetype": "text/x-python",
   "name": "python",
   "nbconvert_exporter": "python",
   "pygments_lexer": "ipython3",
   "version": "3.12.4"
  }
 },
 "nbformat": 4,
 "nbformat_minor": 5
}
