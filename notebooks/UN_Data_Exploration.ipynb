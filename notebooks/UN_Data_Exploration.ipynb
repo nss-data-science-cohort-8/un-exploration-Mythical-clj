{
 "cells": [
  {
   "cell_type": "markdown",
   "id": "46c211a8-d6f7-4eeb-966f-e21fa98a3a46",
   "metadata": {},
   "source": [
    "## UN Data Exploration"
   ]
  },
  {
   "cell_type": "markdown",
   "id": "f7448bf6-f6fd-484b-8a35-429e57cbce09",
   "metadata": {},
   "source": [
    "This is my first comment on this notebook."
   ]
  },
  {
   "cell_type": "code",
   "execution_count": 1,
   "id": "969add66-6fda-4e80-a169-5ad1887afd7f",
   "metadata": {},
   "outputs": [],
   "source": [
    "import pandas as pd\n",
    "import numpy as np\n",
    "import matplotlib.pyplot as plt\n",
    "import seaborn as sns"
   ]
  },
  {
   "cell_type": "markdown",
   "id": "a6891a66-9c19-4674-9c65-500d020b6d92",
   "metadata": {
    "scrolled": true
   },
   "source": [
    "For later # pd.read_csv(\"../data/continents.csv\")"
   ]
  },
  {
   "cell_type": "code",
   "execution_count": 2,
   "id": "08cc0984-7753-4143-979e-d992847e43f4",
   "metadata": {
    "scrolled": true
   },
   "outputs": [],
   "source": [
    "gdp_df = pd.read_csv(\"../data/gdp_per_capita.csv\")"
   ]
  },
  {
   "cell_type": "markdown",
   "id": "64baff2b-cc6a-48ed-9334-f3a4dd9cc302",
   "metadata": {},
   "source": [
    "Drop the 'Value Footnotes' column, and rename the remaining columns to 'Country', 'Year', and 'GDP_Per_Capita'."
   ]
  },
  {
   "cell_type": "code",
   "execution_count": 3,
   "id": "f55ffdc1-41fd-4a86-ab32-59ab03c93498",
   "metadata": {},
   "outputs": [],
   "source": [
    "gdp_df = (\n",
    "    gdp_df\n",
    "    .rename(columns={\"Country or Area\" : \"Country\", \"Value\" : \"GDP_Per_Capita\"})\n",
    "    .drop('Value Footnotes', axis=1)\n",
    ")"
   ]
  },
  {
   "cell_type": "markdown",
   "id": "155b9ba5-e6b3-474e-8a55-3a842d599950",
   "metadata": {},
   "source": [
    "How many rows and columns does gdp_df have? What are the data types of its columns? If any of the columns are not the expected types, figure out why and fix it.\r\n",
    "\r\n",
    "There are 7,662 rows, and 3 columns (once value footnotes is removed). Country is nominal categorical, Year is ordinal categorical, and value is continuous numerical."
   ]
  },
  {
   "cell_type": "code",
   "execution_count": 4,
   "id": "50b8056d-e554-4bff-9258-23b9d3f5bc62",
   "metadata": {},
   "outputs": [],
   "source": [
    "gdp_df['Year'] = pd.to_datetime(gdp_df['Year'], format = '%Y', errors='coerce').dt.to_period('Y')"
   ]
  },
  {
   "cell_type": "code",
   "execution_count": 5,
   "id": "0e8d1c3d-fe52-47c7-9dc4-5021090e3343",
   "metadata": {},
   "outputs": [
    {
     "name": "stdout",
     "output_type": "stream",
     "text": [
      "<class 'pandas.core.frame.DataFrame'>\n",
      "RangeIndex: 7662 entries, 0 to 7661\n",
      "Data columns (total 3 columns):\n",
      " #   Column          Non-Null Count  Dtype        \n",
      "---  ------          --------------  -----        \n",
      " 0   Country         7662 non-null   object       \n",
      " 1   Year            7662 non-null   period[Y-DEC]\n",
      " 2   GDP_Per_Capita  7662 non-null   float64      \n",
      "dtypes: float64(1), object(1), period[Y-DEC](1)\n",
      "memory usage: 179.7+ KB\n"
     ]
    }
   ],
   "source": [
    "gdp_df.info()"
   ]
  },
  {
   "cell_type": "markdown",
   "id": "c3ec311e-78bc-4975-bbc4-3babc84e0ac1",
   "metadata": {},
   "source": [
    "Which years are represented in this dataset? Take a look at the number of observations per year. What do you notice? \n",
    "\n",
    "The years are 1990 to 2022. The number of observations is the lowest in 1990 and goes up into the 2000s and 2010s capping at 2013 before going back down a little in 2021."
   ]
  },
  {
   "cell_type": "code",
   "execution_count": 6,
   "id": "68939442-293b-4579-a824-07737bcbd4ce",
   "metadata": {},
   "outputs": [
    {
     "data": {
      "text/plain": [
       "(Period('1990', 'Y-DEC'),\n",
       " Period('2022', 'Y-DEC'),\n",
       " Year\n",
       " 2013    242\n",
       " 2016    242\n",
       " 2014    242\n",
       " 2015    242\n",
       " 2020    242\n",
       " 2017    242\n",
       " 2018    242\n",
       " 2019    242\n",
       " 2021    241\n",
       " 2012    240\n",
       " 2011    240\n",
       " 2010    239\n",
       " 2009    239\n",
       " 2008    238\n",
       " 2007    237\n",
       " 2006    237\n",
       " 2004    236\n",
       " 2005    236\n",
       " 2003    235\n",
       " 2002    235\n",
       " 2001    234\n",
       " 2000    233\n",
       " 2022    232\n",
       " 1999    227\n",
       " 1998    226\n",
       " 1997    226\n",
       " 1996    223\n",
       " 1995    223\n",
       " 1994    213\n",
       " 1993    211\n",
       " 1992    210\n",
       " 1991    208\n",
       " 1990    207\n",
       " Freq: Y-DEC, Name: count, dtype: int64)"
      ]
     },
     "execution_count": 6,
     "metadata": {},
     "output_type": "execute_result"
    }
   ],
   "source": [
    "(\n",
    "    gdp_df[\"Year\"].min(),\n",
    "    gdp_df[\"Year\"].max(),\n",
    "    gdp_df[\"Year\"].value_counts()\n",
    ")"
   ]
  },
  {
   "cell_type": "code",
   "execution_count": 7,
   "id": "4a721c20-ff85-4b68-bda7-e49b161c5dc4",
   "metadata": {},
   "outputs": [
    {
     "data": {
      "text/plain": [
       "242"
      ]
     },
     "execution_count": 7,
     "metadata": {},
     "output_type": "execute_result"
    }
   ],
   "source": [
    "gdp_df['Country'].nunique()"
   ]
  },
  {
   "cell_type": "code",
   "execution_count": 8,
   "id": "cf97a4ec-fc77-498b-ab6c-0e06e794a3fd",
   "metadata": {},
   "outputs": [
    {
     "data": {
      "text/plain": [
       "Country\n",
       "Least developed countries: UN classification    33\n",
       "Middle East & North Africa                      33\n",
       "Middle East & North Africa (IDA & IBRD)         33\n",
       "Middle income                                   33\n",
       "Mongolia                                        33\n",
       "                                                ..\n",
       "Kosovo                                          15\n",
       "Sint Maarten (Dutch part)                       14\n",
       "Turks and Caicos Islands                        12\n",
       "Somalia                                         10\n",
       "Djibouti                                        10\n",
       "Name: count, Length: 242, dtype: int64"
      ]
     },
     "execution_count": 8,
     "metadata": {},
     "output_type": "execute_result"
    }
   ],
   "source": [
    "gdp_df['Country'].value_counts()"
   ]
  },
  {
   "cell_type": "markdown",
   "id": "da1332de-0d69-4803-b744-aa8353d2e116",
   "metadata": {
    "jp-MarkdownHeadingCollapsed": true
   },
   "source": [
    "How many countries are represented in this dataset? Which countries are least represented in the dataset? Why do you think these countries have so few observations? \n",
    "\n",
    "There are 242 countries. The least represented are the Middle Eastern and African countries. I think this would be due to these countries being less developed, nd thus having less data collection organizations."
   ]
  },
  {
   "cell_type": "markdown",
   "id": "bb3127f2-e133-4852-875d-9a473f144677",
   "metadata": {},
   "source": [
    "Create a new dataframe by subsetting gdp_df to just the year 2021. Call this new dataframe gdp_2021."
   ]
  },
  {
   "cell_type": "code",
   "execution_count": 9,
   "id": "c897a8ae-909c-4cfa-90c2-70c58cba1eb3",
   "metadata": {},
   "outputs": [],
   "source": [
    "gdp_2021 = gdp_df.loc[gdp_df[\"Year\"] == '2021']"
   ]
  },
  {
   "cell_type": "code",
   "execution_count": 10,
   "id": "b334dca6-f0cb-4160-b3d8-01f26d122aa1",
   "metadata": {},
   "outputs": [
    {
     "data": {
      "text/html": [
       "<div>\n",
       "<style scoped>\n",
       "    .dataframe tbody tr th:only-of-type {\n",
       "        vertical-align: middle;\n",
       "    }\n",
       "\n",
       "    .dataframe tbody tr th {\n",
       "        vertical-align: top;\n",
       "    }\n",
       "\n",
       "    .dataframe thead th {\n",
       "        text-align: right;\n",
       "    }\n",
       "</style>\n",
       "<table border=\"1\" class=\"dataframe\">\n",
       "  <thead>\n",
       "    <tr style=\"text-align: right;\">\n",
       "      <th></th>\n",
       "      <th>GDP_Per_Capita</th>\n",
       "    </tr>\n",
       "  </thead>\n",
       "  <tbody>\n",
       "    <tr>\n",
       "      <th>count</th>\n",
       "      <td>241.000000</td>\n",
       "    </tr>\n",
       "    <tr>\n",
       "      <th>mean</th>\n",
       "      <td>20711.570080</td>\n",
       "    </tr>\n",
       "    <tr>\n",
       "      <th>std</th>\n",
       "      <td>20916.978968</td>\n",
       "    </tr>\n",
       "    <tr>\n",
       "      <th>min</th>\n",
       "      <td>714.066712</td>\n",
       "    </tr>\n",
       "    <tr>\n",
       "      <th>25%</th>\n",
       "      <td>5044.196028</td>\n",
       "    </tr>\n",
       "    <tr>\n",
       "      <th>50%</th>\n",
       "      <td>13754.802423</td>\n",
       "    </tr>\n",
       "    <tr>\n",
       "      <th>75%</th>\n",
       "      <td>30974.370692</td>\n",
       "    </tr>\n",
       "    <tr>\n",
       "      <th>max</th>\n",
       "      <td>115683.493708</td>\n",
       "    </tr>\n",
       "  </tbody>\n",
       "</table>\n",
       "</div>"
      ],
      "text/plain": [
       "       GDP_Per_Capita\n",
       "count      241.000000\n",
       "mean     20711.570080\n",
       "std      20916.978968\n",
       "min        714.066712\n",
       "25%       5044.196028\n",
       "50%      13754.802423\n",
       "75%      30974.370692\n",
       "max     115683.493708"
      ]
     },
     "execution_count": 10,
     "metadata": {},
     "output_type": "execute_result"
    }
   ],
   "source": [
    "gdp_2021.describe()"
   ]
  },
  {
   "cell_type": "markdown",
   "id": "b3eeddb1-c88c-4b76-8ea1-e74163b44359",
   "metadata": {},
   "source": [
    "Create a histogram of GDP Per Capita numbers for 2021 (you may wish to adjust the number of bins for your histogram). How would you describe the shape of the distribution? It is unimodal with a heavy right skew. "
   ]
  },
  {
   "cell_type": "code",
   "execution_count": 11,
   "id": "b12db38c-0141-42d8-ad34-3b08286335a8",
   "metadata": {},
   "outputs": [
    {
     "data": {
      "text/plain": [
       "Text(0.5, 1.0, 'GDP Per Capita of 242 Countries 2021')"
      ]
     },
     "execution_count": 11,
     "metadata": {},
     "output_type": "execute_result"
    },
    {
     "data": {
      "image/png": "[encoded data removed]",
      "text/plain": [
       "<Figure size 640x480 with 1 Axes>"
      ]
     },
     "metadata": {},
     "output_type": "display_data"
    }
   ],
   "source": [
    "gdp_2021.hist(bins=9, rwidth=0.9)\n",
    "plt.xlabel('Frequency of GDP')                            \n",
    "plt.ylabel('GDP Per Capita')\n",
    "plt.title('GDP Per Capita of 242 Countries 2021')"
   ]
  },
  {
   "cell_type": "markdown",
   "id": "c5fd453b-e666-49b2-9e5a-eb991319fdf6",
   "metadata": {},
   "source": [
    "Find the top 5 counties and bottom 5 countries by GDP per capita in 2021."
   ]
  },
  {
   "cell_type": "code",
   "execution_count": 12,
   "id": "a930bef9-fa71-4dbb-9e7d-d00b12f377a8",
   "metadata": {},
   "outputs": [
    {
     "data": {
      "text/html": [
       "<div>\n",
       "<style scoped>\n",
       "    .dataframe tbody tr th:only-of-type {\n",
       "        vertical-align: middle;\n",
       "    }\n",
       "\n",
       "    .dataframe tbody tr th {\n",
       "        vertical-align: top;\n",
       "    }\n",
       "\n",
       "    .dataframe thead th {\n",
       "        text-align: right;\n",
       "    }\n",
       "</style>\n",
       "<table border=\"1\" class=\"dataframe\">\n",
       "  <thead>\n",
       "    <tr style=\"text-align: right;\">\n",
       "      <th></th>\n",
       "      <th>Country</th>\n",
       "      <th>Year</th>\n",
       "      <th>GDP_Per_Capita</th>\n",
       "    </tr>\n",
       "  </thead>\n",
       "  <tbody>\n",
       "    <tr>\n",
       "      <th>4147</th>\n",
       "      <td>Luxembourg</td>\n",
       "      <td>2021</td>\n",
       "      <td>115683.493708</td>\n",
       "    </tr>\n",
       "    <tr>\n",
       "      <th>6107</th>\n",
       "      <td>Singapore</td>\n",
       "      <td>2021</td>\n",
       "      <td>107741.118436</td>\n",
       "    </tr>\n",
       "    <tr>\n",
       "      <th>3278</th>\n",
       "      <td>Ireland</td>\n",
       "      <td>2021</td>\n",
       "      <td>102785.490239</td>\n",
       "    </tr>\n",
       "    <tr>\n",
       "      <th>5745</th>\n",
       "      <td>Qatar</td>\n",
       "      <td>2021</td>\n",
       "      <td>92862.571798</td>\n",
       "    </tr>\n",
       "    <tr>\n",
       "      <th>680</th>\n",
       "      <td>Bermuda</td>\n",
       "      <td>2021</td>\n",
       "      <td>78570.489515</td>\n",
       "    </tr>\n",
       "  </tbody>\n",
       "</table>\n",
       "</div>"
      ],
      "text/plain": [
       "         Country  Year  GDP_Per_Capita\n",
       "4147  Luxembourg  2021   115683.493708\n",
       "6107   Singapore  2021   107741.118436\n",
       "3278     Ireland  2021   102785.490239\n",
       "5745       Qatar  2021    92862.571798\n",
       "680      Bermuda  2021    78570.489515"
      ]
     },
     "execution_count": 12,
     "metadata": {},
     "output_type": "execute_result"
    }
   ],
   "source": [
    "gdp_2021.sort_values('GDP_Per_Capita', ascending = False).head(5)"
   ]
  },
  {
   "cell_type": "code",
   "execution_count": 13,
   "id": "3fa9c046-0d6b-45b1-92ac-30f4b7fa8b56",
   "metadata": {},
   "outputs": [
    {
     "data": {
      "text/html": [
       "<div>\n",
       "<style scoped>\n",
       "    .dataframe tbody tr th:only-of-type {\n",
       "        vertical-align: middle;\n",
       "    }\n",
       "\n",
       "    .dataframe tbody tr th {\n",
       "        vertical-align: top;\n",
       "    }\n",
       "\n",
       "    .dataframe thead th {\n",
       "        text-align: right;\n",
       "    }\n",
       "</style>\n",
       "<table border=\"1\" class=\"dataframe\">\n",
       "  <thead>\n",
       "    <tr style=\"text-align: right;\">\n",
       "      <th></th>\n",
       "      <th>Country</th>\n",
       "      <th>Year</th>\n",
       "      <th>GDP_Per_Capita</th>\n",
       "    </tr>\n",
       "  </thead>\n",
       "  <tbody>\n",
       "    <tr>\n",
       "      <th>5073</th>\n",
       "      <td>Niger</td>\n",
       "      <td>2021</td>\n",
       "      <td>1186.576809</td>\n",
       "    </tr>\n",
       "    <tr>\n",
       "      <th>6272</th>\n",
       "      <td>Somalia</td>\n",
       "      <td>2021</td>\n",
       "      <td>1136.735989</td>\n",
       "    </tr>\n",
       "    <tr>\n",
       "      <th>1629</th>\n",
       "      <td>Dem. Rep. Congo</td>\n",
       "      <td>2021</td>\n",
       "      <td>1073.643271</td>\n",
       "    </tr>\n",
       "    <tr>\n",
       "      <th>1216</th>\n",
       "      <td>Central African Republic</td>\n",
       "      <td>2021</td>\n",
       "      <td>837.504686</td>\n",
       "    </tr>\n",
       "    <tr>\n",
       "      <th>972</th>\n",
       "      <td>Burundi</td>\n",
       "      <td>2021</td>\n",
       "      <td>714.066712</td>\n",
       "    </tr>\n",
       "  </tbody>\n",
       "</table>\n",
       "</div>"
      ],
      "text/plain": [
       "                       Country  Year  GDP_Per_Capita\n",
       "5073                     Niger  2021     1186.576809\n",
       "6272                   Somalia  2021     1136.735989\n",
       "1629           Dem. Rep. Congo  2021     1073.643271\n",
       "1216  Central African Republic  2021      837.504686\n",
       "972                    Burundi  2021      714.066712"
      ]
     },
     "execution_count": 13,
     "metadata": {},
     "output_type": "execute_result"
    }
   ],
   "source": [
    "gdp_2021.sort_values('GDP_Per_Capita', ascending = False).tail(5)"
   ]
  },
  {
   "cell_type": "markdown",
   "id": "4b7626f0-0e0a-4091-b9e0-5babd169a052",
   "metadata": {},
   "source": [
    "Now, return to the full dataset, gdp_df. Pivot the data for 1990 and 2021 (using the pandas .pivot_table() method or another method) so that each row corresponds to a country, each column corresponds to a year, and the values in the table give the GDP_Per_Capita amount. Drop any rows that are missing values for either 1990 or 2021. Save the result to a dataframe named gdp_pivoted"
   ]
  },
  {
   "cell_type": "code",
   "execution_count": 14,
   "id": "2631d1b5-fee6-49a6-a7d2-89610e42d6db",
   "metadata": {},
   "outputs": [],
   "source": [
    "# The code here needs to be extracting just the 1990 and 2021 columns and turning that into a pivot table."
   ]
  },
  {
   "cell_type": "code",
   "execution_count": 15,
   "id": "962da948-8a25-45e4-838c-116f8670d43d",
   "metadata": {},
   "outputs": [],
   "source": [
    "gdp_pivoted = (\n",
    "    gdp_df\n",
    "    .pivot_table('GDP_Per_Capita', index = 'Country', columns = 'Year')\n",
    "    .dropna(axis='rows', subset=['1990', '2021'])\n",
    "    .loc[:, ['1990', '2021']]\n",
    ")"
   ]
  },
  {
   "cell_type": "markdown",
   "id": "4b63fd2b-16ed-45ff-b77d-d9b093f0c57a",
   "metadata": {},
   "source": [
    "Create a new column in gdp_pivoted named Percent_Change. This column should contain the percent change in GDP_Per_Capita from 1990 to 2021. Hint: Percent change is calculated as 100*(New Value - Old Value) / Old Value."
   ]
  },
  {
   "cell_type": "code",
   "execution_count": 16,
   "id": "ab8f2609-3143-4251-a966-804862a5c2ff",
   "metadata": {},
   "outputs": [],
   "source": [
    "gdp_pivoted['Percent_Change'] = 100 * (gdp_pivoted['2021'] - gdp_pivoted['1990']) / gdp_pivoted['1990']"
   ]
  },
  {
   "cell_type": "code",
   "execution_count": 17,
   "id": "ebc49b91-a9df-42e1-a281-12123cee9f57",
   "metadata": {},
   "outputs": [
    {
     "data": {
      "text/plain": [
       "Country\n",
       "Vanuatu                                      0.950043\n",
       "The Gambia                                  -0.172662\n",
       "Kiribati                                    -1.822996\n",
       "Tajikistan                                  -2.014757\n",
       "Barbados                                    -2.430187\n",
       "Kyrgyz Republic                             -4.352813\n",
       "Guinea-Bissau                               -8.347123\n",
       "Fragile and conflict affected situations   -10.913738\n",
       "Brunei                                     -14.542192\n",
       "The Bahamas                                -15.757559\n",
       "Madagascar                                 -18.043873\n",
       "Haiti                                      -20.251203\n",
       "Ukraine                                    -21.177578\n",
       "Gabon                                      -21.325301\n",
       "Zimbabwe                                   -21.799100\n",
       "Central African Republic                   -30.243599\n",
       "United Arab Emirates                       -34.147317\n",
       "Congo                                      -35.406695\n",
       "Dem. Rep. Congo                            -38.654906\n",
       "Burundi                                    -39.236385\n",
       "Name: Percent_Change, dtype: float64"
      ]
     },
     "execution_count": 17,
     "metadata": {},
     "output_type": "execute_result"
    }
   ],
   "source": [
    "gdp_pivoted['Percent_Change'].sort_values(ascending = False).tail(20)"
   ]
  },
  {
   "cell_type": "markdown",
   "id": "24d2f34a-69be-4b43-ab66-c7df683d80b2",
   "metadata": {},
   "source": [
    "How many countries experienced a negative percent change in GDP per capita from 1990 to 2021? 19 Countries experienced a negative percent change."
   ]
  },
  {
   "cell_type": "markdown",
   "id": "5896304a-9699-42a8-9a85-35e1c918d3af",
   "metadata": {},
   "source": [
    "Which country had the highest % change in GDP per capita? Create a line plot showing this country's GDP per capita for all years from 1990 to 2022. Create another showing the country with the second highest % change in GDP. How do the trends in these countries compare?\n",
    "Bonus: Put both line charts on the same plot.\n",
    "Guinea had the highest change in fluctuation, peaking at 2008 and then crashing. China, the second, is steadily on the rise and has recently passed Guinea (2020)."
   ]
  },
  {
   "cell_type": "code",
   "execution_count": 18,
   "id": "da2cdecd-9b15-4386-9d2f-9d01119e0b97",
   "metadata": {},
   "outputs": [
    {
     "data": {
      "text/plain": [
       "Country\n",
       "Equatorial Guinea                              1463.081870\n",
       "China                                          1140.082904\n",
       "East Asia & Pacific (excluding high income)     603.268440\n",
       "East Asia & Pacific (IDA & IBRD)                602.726652\n",
       "Myanmar                                         593.351678\n",
       "Name: Percent_Change, dtype: float64"
      ]
     },
     "execution_count": 18,
     "metadata": {},
     "output_type": "execute_result"
    }
   ],
   "source": [
    "gdp_pivoted['Percent_Change'].sort_values(ascending = False).head(5)"
   ]
  },
  {
   "cell_type": "code",
   "execution_count": 19,
   "id": "923f4cc6-0f60-4587-af7c-73a934099d4b",
   "metadata": {},
   "outputs": [],
   "source": [
    "gdp_percent_change_table = (\n",
    "    gdp_df\n",
    "    .pivot_table('GDP_Per_Capita', index = 'Country', columns = 'Year')\n",
    "    .dropna(axis='rows', subset=['1990', '2021'])\n",
    ")"
   ]
  },
  {
   "cell_type": "code",
   "execution_count": 20,
   "id": "cc754e56-7dd6-4f6e-85a8-c149930374df",
   "metadata": {},
   "outputs": [
    {
     "data": {
      "text/plain": [
       "Text(0.5, 1.0, 'GDP Per Capita Percent Change of Equatorial New Guinea and China')"
      ]
     },
     "execution_count": 20,
     "metadata": {},
     "output_type": "execute_result"
    },
    {
     "data": {
      "image/png": "[encoded data removed]",
      "text/plain": [
       "<Figure size 640x480 with 1 Axes>"
      ]
     },
     "metadata": {},
     "output_type": "display_data"
    }
   ],
   "source": [
    "gdp_percent_change_table.loc['Equatorial Guinea'].plot.line(label='New Guinea'), \n",
    "gdp_percent_change_table.loc['China'].plot.line(label='China').legend()\n",
    "plt.xlabel('Years')                            \n",
    "plt.ylabel('GDP Per Capita')\n",
    "plt.title('GDP Per Capita Percent Change of Equatorial New Guinea and China')"
   ]
  },
  {
   "cell_type": "code",
   "execution_count": 21,
   "id": "15fb0aea-b7b2-4180-8c56-806716bb6fbb",
   "metadata": {},
   "outputs": [],
   "source": [
    "continents = pd.read_csv(\"../data/continents.csv\")"
   ]
  },
  {
   "cell_type": "markdown",
   "id": "1bc89725-20bc-4f11-ac67-299419af13ce",
   "metadata": {},
   "source": [
    "Merge gdp_df and continents. Keep only the countries that appear in both data frames. Save the result back to gdp_df."
   ]
  },
  {
   "cell_type": "code",
   "execution_count": 22,
   "id": "b59f1e31-b3fe-4969-ab15-951403b987ef",
   "metadata": {},
   "outputs": [],
   "source": [
    "gdp_df = pd.merge(gdp_df, continents, on = 'Country')"
   ]
  },
  {
   "cell_type": "markdown",
   "id": "8516b463-de4b-4c62-beca-467d08d39c2b",
   "metadata": {},
   "source": [
    "Determine the number of countries per continent. Create a bar chart showing this."
   ]
  },
  {
   "cell_type": "code",
   "execution_count": 23,
   "id": "3df5b90e-962d-4a5c-98e8-769be258f3e2",
   "metadata": {},
   "outputs": [
    {
     "data": {
      "text/plain": [
       "array([1585, 1372, 1297,  840,  436,  363], dtype=int64)"
      ]
     },
     "execution_count": 23,
     "metadata": {},
     "output_type": "execute_result"
    }
   ],
   "source": [
    "gdp_df.Continent.value_counts().unique()"
   ]
  },
  {
   "cell_type": "code",
   "execution_count": 24,
   "id": "af031d0c-ee1c-44cb-90e2-7a4aa6ecc989",
   "metadata": {},
   "outputs": [],
   "source": [
    "gdp_df_clean = gdp_df.drop_duplicates(subset='Country')\n",
    "gdp_df_counts= gdp_df_clean['Continent'].value_counts()"
   ]
  },
  {
   "cell_type": "code",
   "execution_count": 25,
   "id": "4c74de44-82e2-4e09-a399-961a140c4eee",
   "metadata": {},
   "outputs": [
    {
     "data": {
      "text/plain": [
       "([0, 1, 2, 3, 4, 5],\n",
       " [Text(0, 0, 'Asia'),\n",
       "  Text(1, 0, 'Europe'),\n",
       "  Text(2, 0, 'Africa'),\n",
       "  Text(3, 0, 'North America'),\n",
       "  Text(4, 0, 'South America'),\n",
       "  Text(5, 0, 'Oceania')])"
      ]
     },
     "execution_count": 25,
     "metadata": {},
     "output_type": "execute_result"
    },
    {
     "data": {
      "image/png": "[encoded data removed]",
      "text/plain": [
       "<Figure size 640x480 with 1 Axes>"
      ]
     },
     "metadata": {},
     "output_type": "display_data"
    }
   ],
   "source": [
    "plt.bar(gdp_df_clean['Continent'].unique(), gdp_df_counts)\n",
    "plt.title('Countries Per Continent')\n",
    "plt.xticks(rotation=45)"
   ]
  },
  {
   "cell_type": "markdown",
   "id": "1af1b907-a074-4597-a0a5-c70523ecb08c",
   "metadata": {},
   "source": [
    "Create a seaborn boxplot showing GDP per capita in 2021 split out by continent. What do you notice?"
   ]
  },
  {
   "cell_type": "code",
   "execution_count": 70,
   "id": "253eb2e6-b4e4-477e-b60d-9fe44c5b72f2",
   "metadata": {},
   "outputs": [],
   "source": [
    "gdp_cont_2021 = (\n",
    "    gdp_df.pivot_table('GDP_Per_Capita', index = 'Year', columns = 'Continent')\n",
    "    .dropna()\n",
    ")"
   ]
  },
  {
   "cell_type": "code",
   "execution_count": 72,
   "id": "3030eb9a-da72-4092-bb51-0b13c5d29b38",
   "metadata": {},
   "outputs": [],
   "source": [
    "gdp_cont_2021 = gdp_df.loc[gdp_df[\"Year\"] == '2021']"
   ]
  },
  {
   "cell_type": "code",
   "execution_count": 73,
   "id": "693342c4-38dc-4cb2-bace-151fa8bf90c2",
   "metadata": {},
   "outputs": [
    {
     "data": {
      "text/html": [
       "<div>\n",
       "<style scoped>\n",
       "    .dataframe tbody tr th:only-of-type {\n",
       "        vertical-align: middle;\n",
       "    }\n",
       "\n",
       "    .dataframe tbody tr th {\n",
       "        vertical-align: top;\n",
       "    }\n",
       "\n",
       "    .dataframe thead th {\n",
       "        text-align: right;\n",
       "    }\n",
       "</style>\n",
       "<table border=\"1\" class=\"dataframe\">\n",
       "  <thead>\n",
       "    <tr style=\"text-align: right;\">\n",
       "      <th></th>\n",
       "      <th>Country</th>\n",
       "      <th>Year</th>\n",
       "      <th>GDP_Per_Capita</th>\n",
       "      <th>Continent</th>\n",
       "    </tr>\n",
       "  </thead>\n",
       "  <tbody>\n",
       "    <tr>\n",
       "      <th>0</th>\n",
       "      <td>Afghanistan</td>\n",
       "      <td>2021</td>\n",
       "      <td>1517.016266</td>\n",
       "      <td>Asia</td>\n",
       "    </tr>\n",
       "    <tr>\n",
       "      <th>21</th>\n",
       "      <td>Albania</td>\n",
       "      <td>2021</td>\n",
       "      <td>14595.944386</td>\n",
       "      <td>Europe</td>\n",
       "    </tr>\n",
       "    <tr>\n",
       "      <th>54</th>\n",
       "      <td>Algeria</td>\n",
       "      <td>2021</td>\n",
       "      <td>11029.138782</td>\n",
       "      <td>Africa</td>\n",
       "    </tr>\n",
       "    <tr>\n",
       "      <th>87</th>\n",
       "      <td>Angola</td>\n",
       "      <td>2021</td>\n",
       "      <td>5911.835657</td>\n",
       "      <td>Africa</td>\n",
       "    </tr>\n",
       "    <tr>\n",
       "      <th>120</th>\n",
       "      <td>Antigua and Barbuda</td>\n",
       "      <td>2021</td>\n",
       "      <td>19899.882425</td>\n",
       "      <td>North America</td>\n",
       "    </tr>\n",
       "    <tr>\n",
       "      <th>...</th>\n",
       "      <td>...</td>\n",
       "      <td>...</td>\n",
       "      <td>...</td>\n",
       "      <td>...</td>\n",
       "    </tr>\n",
       "    <tr>\n",
       "      <th>5733</th>\n",
       "      <td>Uzbekistan</td>\n",
       "      <td>2021</td>\n",
       "      <td>7800.501501</td>\n",
       "      <td>Asia</td>\n",
       "    </tr>\n",
       "    <tr>\n",
       "      <th>5766</th>\n",
       "      <td>Vanuatu</td>\n",
       "      <td>2021</td>\n",
       "      <td>2800.493866</td>\n",
       "      <td>Oceania</td>\n",
       "    </tr>\n",
       "    <tr>\n",
       "      <th>5799</th>\n",
       "      <td>West Bank and Gaza</td>\n",
       "      <td>2021</td>\n",
       "      <td>5641.044400</td>\n",
       "      <td>Asia</td>\n",
       "    </tr>\n",
       "    <tr>\n",
       "      <th>5828</th>\n",
       "      <td>Zambia</td>\n",
       "      <td>2021</td>\n",
       "      <td>3236.788981</td>\n",
       "      <td>Africa</td>\n",
       "    </tr>\n",
       "    <tr>\n",
       "      <th>5861</th>\n",
       "      <td>Zimbabwe</td>\n",
       "      <td>2021</td>\n",
       "      <td>2115.144555</td>\n",
       "      <td>Africa</td>\n",
       "    </tr>\n",
       "  </tbody>\n",
       "</table>\n",
       "<p>185 rows × 4 columns</p>\n",
       "</div>"
      ],
      "text/plain": [
       "                  Country  Year  GDP_Per_Capita      Continent\n",
       "0             Afghanistan  2021     1517.016266           Asia\n",
       "21                Albania  2021    14595.944386         Europe\n",
       "54                Algeria  2021    11029.138782         Africa\n",
       "87                 Angola  2021     5911.835657         Africa\n",
       "120   Antigua and Barbuda  2021    19899.882425  North America\n",
       "...                   ...   ...             ...            ...\n",
       "5733           Uzbekistan  2021     7800.501501           Asia\n",
       "5766              Vanuatu  2021     2800.493866        Oceania\n",
       "5799   West Bank and Gaza  2021     5641.044400           Asia\n",
       "5828               Zambia  2021     3236.788981         Africa\n",
       "5861             Zimbabwe  2021     2115.144555         Africa\n",
       "\n",
       "[185 rows x 4 columns]"
      ]
     },
     "execution_count": 73,
     "metadata": {},
     "output_type": "execute_result"
    }
   ],
   "source": [
    "gdp_cont_2021"
   ]
  },
  {
   "cell_type": "code",
   "execution_count": 75,
   "id": "7d952a9e-a0e8-4384-a005-7295010873ea",
   "metadata": {},
   "outputs": [],
   "source": [
    "gdp_2021_melted = gdp_cont_2021.melt(['Continent', 'GDP_Per_Capita']).drop_duplicates()"
   ]
  },
  {
   "cell_type": "code",
   "execution_count": 82,
   "id": "c79e6e36-50d7-4702-a0dc-a1c1735f74b3",
   "metadata": {},
   "outputs": [
    {
     "data": {
      "text/html": [
       "<div>\n",
       "<style scoped>\n",
       "    .dataframe tbody tr th:only-of-type {\n",
       "        vertical-align: middle;\n",
       "    }\n",
       "\n",
       "    .dataframe tbody tr th {\n",
       "        vertical-align: top;\n",
       "    }\n",
       "\n",
       "    .dataframe thead th {\n",
       "        text-align: right;\n",
       "    }\n",
       "</style>\n",
       "<table border=\"1\" class=\"dataframe\">\n",
       "  <thead>\n",
       "    <tr style=\"text-align: right;\">\n",
       "      <th></th>\n",
       "      <th>Continent</th>\n",
       "      <th>GDP_Per_Capita</th>\n",
       "      <th>variable</th>\n",
       "      <th>value</th>\n",
       "    </tr>\n",
       "  </thead>\n",
       "  <tbody>\n",
       "    <tr>\n",
       "      <th>0</th>\n",
       "      <td>Asia</td>\n",
       "      <td>1517.016266</td>\n",
       "      <td>Country</td>\n",
       "      <td>Afghanistan</td>\n",
       "    </tr>\n",
       "    <tr>\n",
       "      <th>1</th>\n",
       "      <td>Europe</td>\n",
       "      <td>14595.944386</td>\n",
       "      <td>Country</td>\n",
       "      <td>Albania</td>\n",
       "    </tr>\n",
       "    <tr>\n",
       "      <th>2</th>\n",
       "      <td>Africa</td>\n",
       "      <td>11029.138782</td>\n",
       "      <td>Country</td>\n",
       "      <td>Algeria</td>\n",
       "    </tr>\n",
       "    <tr>\n",
       "      <th>3</th>\n",
       "      <td>Africa</td>\n",
       "      <td>5911.835657</td>\n",
       "      <td>Country</td>\n",
       "      <td>Angola</td>\n",
       "    </tr>\n",
       "    <tr>\n",
       "      <th>4</th>\n",
       "      <td>North America</td>\n",
       "      <td>19899.882425</td>\n",
       "      <td>Country</td>\n",
       "      <td>Antigua and Barbuda</td>\n",
       "    </tr>\n",
       "    <tr>\n",
       "      <th>...</th>\n",
       "      <td>...</td>\n",
       "      <td>...</td>\n",
       "      <td>...</td>\n",
       "      <td>...</td>\n",
       "    </tr>\n",
       "    <tr>\n",
       "      <th>365</th>\n",
       "      <td>Asia</td>\n",
       "      <td>7800.501501</td>\n",
       "      <td>Year</td>\n",
       "      <td>2021</td>\n",
       "    </tr>\n",
       "    <tr>\n",
       "      <th>366</th>\n",
       "      <td>Oceania</td>\n",
       "      <td>2800.493866</td>\n",
       "      <td>Year</td>\n",
       "      <td>2021</td>\n",
       "    </tr>\n",
       "    <tr>\n",
       "      <th>367</th>\n",
       "      <td>Asia</td>\n",
       "      <td>5641.044400</td>\n",
       "      <td>Year</td>\n",
       "      <td>2021</td>\n",
       "    </tr>\n",
       "    <tr>\n",
       "      <th>368</th>\n",
       "      <td>Africa</td>\n",
       "      <td>3236.788981</td>\n",
       "      <td>Year</td>\n",
       "      <td>2021</td>\n",
       "    </tr>\n",
       "    <tr>\n",
       "      <th>369</th>\n",
       "      <td>Africa</td>\n",
       "      <td>2115.144555</td>\n",
       "      <td>Year</td>\n",
       "      <td>2021</td>\n",
       "    </tr>\n",
       "  </tbody>\n",
       "</table>\n",
       "<p>370 rows × 4 columns</p>\n",
       "</div>"
      ],
      "text/plain": [
       "         Continent  GDP_Per_Capita variable                value\n",
       "0             Asia     1517.016266  Country          Afghanistan\n",
       "1           Europe    14595.944386  Country              Albania\n",
       "2           Africa    11029.138782  Country              Algeria\n",
       "3           Africa     5911.835657  Country               Angola\n",
       "4    North America    19899.882425  Country  Antigua and Barbuda\n",
       "..             ...             ...      ...                  ...\n",
       "365           Asia     7800.501501     Year                 2021\n",
       "366        Oceania     2800.493866     Year                 2021\n",
       "367           Asia     5641.044400     Year                 2021\n",
       "368         Africa     3236.788981     Year                 2021\n",
       "369         Africa     2115.144555     Year                 2021\n",
       "\n",
       "[370 rows x 4 columns]"
      ]
     },
     "execution_count": 82,
     "metadata": {},
     "output_type": "execute_result"
    }
   ],
   "source": [
    "gdp_2021_melted"
   ]
  },
  {
   "cell_type": "code",
   "execution_count": 83,
   "id": "841c7f77-d4e4-40a2-978d-2ce062428ef6",
   "metadata": {},
   "outputs": [
    {
     "data": {
      "text/plain": [
       "(array([-20000.,      0.,  20000.,  40000.,  60000.,  80000., 100000.,\n",
       "        120000., 140000.]),\n",
       " [Text(-20000.0, 0, '−20000'),\n",
       "  Text(0.0, 0, '0'),\n",
       "  Text(20000.0, 0, '20000'),\n",
       "  Text(40000.0, 0, '40000'),\n",
       "  Text(60000.0, 0, '60000'),\n",
       "  Text(80000.0, 0, '80000'),\n",
       "  Text(100000.0, 0, '100000'),\n",
       "  Text(120000.0, 0, '120000'),\n",
       "  Text(140000.0, 0, '140000')])"
      ]
     },
     "execution_count": 83,
     "metadata": {},
     "output_type": "execute_result"
    },
    {
     "data": {
      "image/png": "[encoded data removed]",
      "text/plain": [
       "<Figure size 640x480 with 1 Axes>"
      ]
     },
     "metadata": {},
     "output_type": "display_data"
    }
   ],
   "source": [
    "sns.boxplot(data = gdp_2021_melted.sort_values('Continent'), x = 'GDP_Per_Capita', y = 'Continent');\n",
    "plt.xticks(rotation=45)"
   ]
  },
  {
   "cell_type": "code",
   "execution_count": 110,
   "id": "f045017b-e3be-41f0-bc95-623df51e57cb",
   "metadata": {},
   "outputs": [],
   "source": [
    "life_expectancy = pd.read_csv(\"../data/API_SP.DYN.LE00.IN_DS2_en_csv_v2_31632.csv\", skiprows = 4)"
   ]
  },
  {
   "cell_type": "markdown",
   "id": "8b31e024-251c-4f58-9d3e-9671160e2ca4",
   "metadata": {},
   "source": [
    "Drop the Country Code, Indicator Name, and Indicator Code columns. Then use .melt() to convert your data from wide to long. That is, instead of having one row per country and multiple colums per year, we want to have multiple rows per country and a single column for year. After melting, rename the columns to Country, Year, and Life_Expectancy."
   ]
  },
  {
   "cell_type": "code",
   "execution_count": 131,
   "id": "8719af34-2341-418e-8d2f-bd999ee837a7",
   "metadata": {},
   "outputs": [
    {
     "data": {
      "text/html": [
       "<div>\n",
       "<style scoped>\n",
       "    .dataframe tbody tr th:only-of-type {\n",
       "        vertical-align: middle;\n",
       "    }\n",
       "\n",
       "    .dataframe tbody tr th {\n",
       "        vertical-align: top;\n",
       "    }\n",
       "\n",
       "    .dataframe thead th {\n",
       "        text-align: right;\n",
       "    }\n",
       "</style>\n",
       "<table border=\"1\" class=\"dataframe\">\n",
       "  <thead>\n",
       "    <tr style=\"text-align: right;\">\n",
       "      <th></th>\n",
       "      <th>Country Name</th>\n",
       "      <th>Indicator Name</th>\n",
       "      <th>Indicator Code</th>\n",
       "      <th>1960</th>\n",
       "      <th>1961</th>\n",
       "      <th>1962</th>\n",
       "      <th>1963</th>\n",
       "      <th>1964</th>\n",
       "      <th>1965</th>\n",
       "      <th>1966</th>\n",
       "      <th>...</th>\n",
       "      <th>2015</th>\n",
       "      <th>2016</th>\n",
       "      <th>2017</th>\n",
       "      <th>2018</th>\n",
       "      <th>2019</th>\n",
       "      <th>2020</th>\n",
       "      <th>2021</th>\n",
       "      <th>2022</th>\n",
       "      <th>2023</th>\n",
       "      <th>Unnamed: 68</th>\n",
       "    </tr>\n",
       "  </thead>\n",
       "  <tbody>\n",
       "    <tr>\n",
       "      <th>0</th>\n",
       "      <td>Aruba</td>\n",
       "      <td>Life expectancy at birth, total (years)</td>\n",
       "      <td>SP.DYN.LE00.IN</td>\n",
       "      <td>64.152000</td>\n",
       "      <td>64.537000</td>\n",
       "      <td>64.752000</td>\n",
       "      <td>65.132000</td>\n",
       "      <td>65.294000</td>\n",
       "      <td>65.502000</td>\n",
       "      <td>66.063000</td>\n",
       "      <td>...</td>\n",
       "      <td>75.683000</td>\n",
       "      <td>75.617000</td>\n",
       "      <td>75.903000</td>\n",
       "      <td>76.072000</td>\n",
       "      <td>76.248000</td>\n",
       "      <td>75.723000</td>\n",
       "      <td>74.626000</td>\n",
       "      <td>74.992000</td>\n",
       "      <td>NaN</td>\n",
       "      <td>NaN</td>\n",
       "    </tr>\n",
       "    <tr>\n",
       "      <th>1</th>\n",
       "      <td>Africa Eastern and Southern</td>\n",
       "      <td>Life expectancy at birth, total (years)</td>\n",
       "      <td>SP.DYN.LE00.IN</td>\n",
       "      <td>44.085552</td>\n",
       "      <td>44.386697</td>\n",
       "      <td>44.752182</td>\n",
       "      <td>44.913159</td>\n",
       "      <td>45.479043</td>\n",
       "      <td>45.498338</td>\n",
       "      <td>45.249105</td>\n",
       "      <td>...</td>\n",
       "      <td>61.856458</td>\n",
       "      <td>62.444050</td>\n",
       "      <td>62.922390</td>\n",
       "      <td>63.365863</td>\n",
       "      <td>63.755678</td>\n",
       "      <td>63.313860</td>\n",
       "      <td>62.454590</td>\n",
       "      <td>62.899031</td>\n",
       "      <td>NaN</td>\n",
       "      <td>NaN</td>\n",
       "    </tr>\n",
       "    <tr>\n",
       "      <th>2</th>\n",
       "      <td>Afghanistan</td>\n",
       "      <td>Life expectancy at birth, total (years)</td>\n",
       "      <td>SP.DYN.LE00.IN</td>\n",
       "      <td>32.535000</td>\n",
       "      <td>33.068000</td>\n",
       "      <td>33.547000</td>\n",
       "      <td>34.016000</td>\n",
       "      <td>34.494000</td>\n",
       "      <td>34.953000</td>\n",
       "      <td>35.453000</td>\n",
       "      <td>...</td>\n",
       "      <td>62.659000</td>\n",
       "      <td>63.136000</td>\n",
       "      <td>63.016000</td>\n",
       "      <td>63.081000</td>\n",
       "      <td>63.565000</td>\n",
       "      <td>62.575000</td>\n",
       "      <td>61.982000</td>\n",
       "      <td>62.879000</td>\n",
       "      <td>NaN</td>\n",
       "      <td>NaN</td>\n",
       "    </tr>\n",
       "    <tr>\n",
       "      <th>3</th>\n",
       "      <td>Africa Western and Central</td>\n",
       "      <td>Life expectancy at birth, total (years)</td>\n",
       "      <td>SP.DYN.LE00.IN</td>\n",
       "      <td>37.845152</td>\n",
       "      <td>38.164950</td>\n",
       "      <td>38.735102</td>\n",
       "      <td>39.063715</td>\n",
       "      <td>39.335360</td>\n",
       "      <td>39.618038</td>\n",
       "      <td>39.837827</td>\n",
       "      <td>...</td>\n",
       "      <td>56.195872</td>\n",
       "      <td>56.581678</td>\n",
       "      <td>56.888446</td>\n",
       "      <td>57.189139</td>\n",
       "      <td>57.555796</td>\n",
       "      <td>57.226373</td>\n",
       "      <td>56.988657</td>\n",
       "      <td>57.626176</td>\n",
       "      <td>NaN</td>\n",
       "      <td>NaN</td>\n",
       "    </tr>\n",
       "    <tr>\n",
       "      <th>4</th>\n",
       "      <td>Angola</td>\n",
       "      <td>Life expectancy at birth, total (years)</td>\n",
       "      <td>SP.DYN.LE00.IN</td>\n",
       "      <td>38.211000</td>\n",
       "      <td>37.267000</td>\n",
       "      <td>37.539000</td>\n",
       "      <td>37.824000</td>\n",
       "      <td>38.131000</td>\n",
       "      <td>38.495000</td>\n",
       "      <td>38.757000</td>\n",
       "      <td>...</td>\n",
       "      <td>60.655000</td>\n",
       "      <td>61.092000</td>\n",
       "      <td>61.680000</td>\n",
       "      <td>62.144000</td>\n",
       "      <td>62.448000</td>\n",
       "      <td>62.261000</td>\n",
       "      <td>61.643000</td>\n",
       "      <td>61.929000</td>\n",
       "      <td>NaN</td>\n",
       "      <td>NaN</td>\n",
       "    </tr>\n",
       "    <tr>\n",
       "      <th>...</th>\n",
       "      <td>...</td>\n",
       "      <td>...</td>\n",
       "      <td>...</td>\n",
       "      <td>...</td>\n",
       "      <td>...</td>\n",
       "      <td>...</td>\n",
       "      <td>...</td>\n",
       "      <td>...</td>\n",
       "      <td>...</td>\n",
       "      <td>...</td>\n",
       "      <td>...</td>\n",
       "      <td>...</td>\n",
       "      <td>...</td>\n",
       "      <td>...</td>\n",
       "      <td>...</td>\n",
       "      <td>...</td>\n",
       "      <td>...</td>\n",
       "      <td>...</td>\n",
       "      <td>...</td>\n",
       "      <td>...</td>\n",
       "      <td>...</td>\n",
       "    </tr>\n",
       "    <tr>\n",
       "      <th>261</th>\n",
       "      <td>Kosovo</td>\n",
       "      <td>Life expectancy at birth, total (years)</td>\n",
       "      <td>SP.DYN.LE00.IN</td>\n",
       "      <td>61.485000</td>\n",
       "      <td>61.836000</td>\n",
       "      <td>62.134000</td>\n",
       "      <td>62.440000</td>\n",
       "      <td>62.734000</td>\n",
       "      <td>63.041000</td>\n",
       "      <td>63.323000</td>\n",
       "      <td>...</td>\n",
       "      <td>78.922000</td>\n",
       "      <td>78.981000</td>\n",
       "      <td>78.783000</td>\n",
       "      <td>78.696000</td>\n",
       "      <td>79.022000</td>\n",
       "      <td>76.567000</td>\n",
       "      <td>76.806000</td>\n",
       "      <td>79.524000</td>\n",
       "      <td>NaN</td>\n",
       "      <td>NaN</td>\n",
       "    </tr>\n",
       "    <tr>\n",
       "      <th>262</th>\n",
       "      <td>Yemen, Rep.</td>\n",
       "      <td>Life expectancy at birth, total (years)</td>\n",
       "      <td>SP.DYN.LE00.IN</td>\n",
       "      <td>33.678000</td>\n",
       "      <td>34.098000</td>\n",
       "      <td>33.615000</td>\n",
       "      <td>33.247000</td>\n",
       "      <td>34.738000</td>\n",
       "      <td>35.373000</td>\n",
       "      <td>36.097000</td>\n",
       "      <td>...</td>\n",
       "      <td>65.873000</td>\n",
       "      <td>66.064000</td>\n",
       "      <td>65.957000</td>\n",
       "      <td>64.575000</td>\n",
       "      <td>65.092000</td>\n",
       "      <td>64.650000</td>\n",
       "      <td>63.753000</td>\n",
       "      <td>63.720000</td>\n",
       "      <td>NaN</td>\n",
       "      <td>NaN</td>\n",
       "    </tr>\n",
       "    <tr>\n",
       "      <th>263</th>\n",
       "      <td>South Africa</td>\n",
       "      <td>Life expectancy at birth, total (years)</td>\n",
       "      <td>SP.DYN.LE00.IN</td>\n",
       "      <td>52.669000</td>\n",
       "      <td>53.085000</td>\n",
       "      <td>53.376000</td>\n",
       "      <td>53.633000</td>\n",
       "      <td>53.906000</td>\n",
       "      <td>54.192000</td>\n",
       "      <td>54.391000</td>\n",
       "      <td>...</td>\n",
       "      <td>63.950000</td>\n",
       "      <td>64.747000</td>\n",
       "      <td>65.402000</td>\n",
       "      <td>65.674000</td>\n",
       "      <td>66.175000</td>\n",
       "      <td>65.252000</td>\n",
       "      <td>62.341000</td>\n",
       "      <td>61.480000</td>\n",
       "      <td>NaN</td>\n",
       "      <td>NaN</td>\n",
       "    </tr>\n",
       "    <tr>\n",
       "      <th>264</th>\n",
       "      <td>Zambia</td>\n",
       "      <td>Life expectancy at birth, total (years)</td>\n",
       "      <td>SP.DYN.LE00.IN</td>\n",
       "      <td>49.042000</td>\n",
       "      <td>49.452000</td>\n",
       "      <td>49.794000</td>\n",
       "      <td>50.133000</td>\n",
       "      <td>49.849000</td>\n",
       "      <td>50.563000</td>\n",
       "      <td>50.679000</td>\n",
       "      <td>...</td>\n",
       "      <td>61.208000</td>\n",
       "      <td>61.794000</td>\n",
       "      <td>62.120000</td>\n",
       "      <td>62.342000</td>\n",
       "      <td>62.793000</td>\n",
       "      <td>62.380000</td>\n",
       "      <td>61.223000</td>\n",
       "      <td>61.803000</td>\n",
       "      <td>NaN</td>\n",
       "      <td>NaN</td>\n",
       "    </tr>\n",
       "    <tr>\n",
       "      <th>265</th>\n",
       "      <td>Zimbabwe</td>\n",
       "      <td>Life expectancy at birth, total (years)</td>\n",
       "      <td>SP.DYN.LE00.IN</td>\n",
       "      <td>53.235000</td>\n",
       "      <td>53.619000</td>\n",
       "      <td>54.071000</td>\n",
       "      <td>54.549000</td>\n",
       "      <td>54.994000</td>\n",
       "      <td>55.459000</td>\n",
       "      <td>55.889000</td>\n",
       "      <td>...</td>\n",
       "      <td>59.591000</td>\n",
       "      <td>60.306000</td>\n",
       "      <td>60.709000</td>\n",
       "      <td>61.414000</td>\n",
       "      <td>61.292000</td>\n",
       "      <td>61.124000</td>\n",
       "      <td>59.253000</td>\n",
       "      <td>59.391000</td>\n",
       "      <td>NaN</td>\n",
       "      <td>NaN</td>\n",
       "    </tr>\n",
       "  </tbody>\n",
       "</table>\n",
       "<p>266 rows × 68 columns</p>\n",
       "</div>"
      ],
      "text/plain": [
       "                    Country Name                           Indicator Name  \\\n",
       "0                          Aruba  Life expectancy at birth, total (years)   \n",
       "1    Africa Eastern and Southern  Life expectancy at birth, total (years)   \n",
       "2                    Afghanistan  Life expectancy at birth, total (years)   \n",
       "3     Africa Western and Central  Life expectancy at birth, total (years)   \n",
       "4                         Angola  Life expectancy at birth, total (years)   \n",
       "..                           ...                                      ...   \n",
       "261                       Kosovo  Life expectancy at birth, total (years)   \n",
       "262                  Yemen, Rep.  Life expectancy at birth, total (years)   \n",
       "263                 South Africa  Life expectancy at birth, total (years)   \n",
       "264                       Zambia  Life expectancy at birth, total (years)   \n",
       "265                     Zimbabwe  Life expectancy at birth, total (years)   \n",
       "\n",
       "     Indicator Code       1960       1961       1962       1963       1964  \\\n",
       "0    SP.DYN.LE00.IN  64.152000  64.537000  64.752000  65.132000  65.294000   \n",
       "1    SP.DYN.LE00.IN  44.085552  44.386697  44.752182  44.913159  45.479043   \n",
       "2    SP.DYN.LE00.IN  32.535000  33.068000  33.547000  34.016000  34.494000   \n",
       "3    SP.DYN.LE00.IN  37.845152  38.164950  38.735102  39.063715  39.335360   \n",
       "4    SP.DYN.LE00.IN  38.211000  37.267000  37.539000  37.824000  38.131000   \n",
       "..              ...        ...        ...        ...        ...        ...   \n",
       "261  SP.DYN.LE00.IN  61.485000  61.836000  62.134000  62.440000  62.734000   \n",
       "262  SP.DYN.LE00.IN  33.678000  34.098000  33.615000  33.247000  34.738000   \n",
       "263  SP.DYN.LE00.IN  52.669000  53.085000  53.376000  53.633000  53.906000   \n",
       "264  SP.DYN.LE00.IN  49.042000  49.452000  49.794000  50.133000  49.849000   \n",
       "265  SP.DYN.LE00.IN  53.235000  53.619000  54.071000  54.549000  54.994000   \n",
       "\n",
       "          1965       1966  ...       2015       2016       2017       2018  \\\n",
       "0    65.502000  66.063000  ...  75.683000  75.617000  75.903000  76.072000   \n",
       "1    45.498338  45.249105  ...  61.856458  62.444050  62.922390  63.365863   \n",
       "2    34.953000  35.453000  ...  62.659000  63.136000  63.016000  63.081000   \n",
       "3    39.618038  39.837827  ...  56.195872  56.581678  56.888446  57.189139   \n",
       "4    38.495000  38.757000  ...  60.655000  61.092000  61.680000  62.144000   \n",
       "..         ...        ...  ...        ...        ...        ...        ...   \n",
       "261  63.041000  63.323000  ...  78.922000  78.981000  78.783000  78.696000   \n",
       "262  35.373000  36.097000  ...  65.873000  66.064000  65.957000  64.575000   \n",
       "263  54.192000  54.391000  ...  63.950000  64.747000  65.402000  65.674000   \n",
       "264  50.563000  50.679000  ...  61.208000  61.794000  62.120000  62.342000   \n",
       "265  55.459000  55.889000  ...  59.591000  60.306000  60.709000  61.414000   \n",
       "\n",
       "          2019       2020       2021       2022  2023  Unnamed: 68  \n",
       "0    76.248000  75.723000  74.626000  74.992000   NaN          NaN  \n",
       "1    63.755678  63.313860  62.454590  62.899031   NaN          NaN  \n",
       "2    63.565000  62.575000  61.982000  62.879000   NaN          NaN  \n",
       "3    57.555796  57.226373  56.988657  57.626176   NaN          NaN  \n",
       "4    62.448000  62.261000  61.643000  61.929000   NaN          NaN  \n",
       "..         ...        ...        ...        ...   ...          ...  \n",
       "261  79.022000  76.567000  76.806000  79.524000   NaN          NaN  \n",
       "262  65.092000  64.650000  63.753000  63.720000   NaN          NaN  \n",
       "263  66.175000  65.252000  62.341000  61.480000   NaN          NaN  \n",
       "264  62.793000  62.380000  61.223000  61.803000   NaN          NaN  \n",
       "265  61.292000  61.124000  59.253000  59.391000   NaN          NaN  \n",
       "\n",
       "[266 rows x 68 columns]"
      ]
     },
     "execution_count": 131,
     "metadata": {},
     "output_type": "execute_result"
    }
   ],
   "source": [
    "life_expectancy"
   ]
  },
  {
   "cell_type": "code",
   "execution_count": 139,
   "id": "7c5db803-499c-4ed3-b511-e4d5f42cb4e5",
   "metadata": {},
   "outputs": [
    {
     "ename": "SyntaxError",
     "evalue": "positional argument follows keyword argument (275628587.py, line 1)",
     "output_type": "error",
     "traceback": [
      "\u001b[1;36m  Cell \u001b[1;32mIn[139], line 1\u001b[1;36m\u001b[0m\n\u001b[1;33m    life_expectancy = life_expectancy.drop(columns='Indicator Name', 'Indicator Code', axis=1)\u001b[0m\n\u001b[1;37m                                                                                             ^\u001b[0m\n\u001b[1;31mSyntaxError\u001b[0m\u001b[1;31m:\u001b[0m positional argument follows keyword argument\n"
     ]
    }
   ],
   "source": [
    "life_expectancy = life_expectancy.drop(columns='Indicator Name', 'Indicator Code', axis=1)"
   ]
  },
  {
   "cell_type": "code",
   "execution_count": null,
   "id": "826f3011-c13b-4e19-a1bf-2c4423b569a9",
   "metadata": {},
   "outputs": [],
   "source": []
  },
  {
   "cell_type": "code",
   "execution_count": null,
   "id": "8abefb84-7435-4858-88fa-da7d637d4957",
   "metadata": {},
   "outputs": [],
   "source": []
  }
 ],
 "metadata": {
  "kernelspec": {
   "display_name": "Python 3 (ipykernel)",
   "language": "python",
   "name": "python3"
  },
  "language_info": {
   "codemirror_mode": {
    "name": "ipython",
    "version": 3
   },
   "file_extension": ".py",
   "mimetype": "text/x-python",
   "name": "python",
   "nbconvert_exporter": "python",
   "pygments_lexer": "ipython3",
   "version": "3.12.4"
  }
 },
 "nbformat": 4,
 "nbformat_minor": 5
}
